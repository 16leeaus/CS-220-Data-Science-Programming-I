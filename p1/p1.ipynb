{
 "metadata": {
  "language_info": {
   "codemirror_mode": {
    "name": "ipython",
    "version": 3
   },
   "file_extension": ".py",
   "mimetype": "text/x-python",
   "name": "python",
   "nbconvert_exporter": "python",
   "pygments_lexer": "ipython3",
   "version": "3.9.2"
  },
  "orig_nbformat": 4,
  "kernelspec": {
   "name": "python3",
   "display_name": "Python 3.9.2 64-bit"
  },
  "interpreter": {
   "hash": "ac59ebe37160ed0dfa835113d9b8498d9f09ceb179beaac4002f036b9467c963"
  }
 },
 "nbformat": 4,
 "nbformat_minor": 2,
 "cells": [
  {
   "cell_type": "code",
   "execution_count": 1,
   "metadata": {},
   "outputs": [],
   "source": [
    "# project: p1\n",
    "# submitter: alee88\n",
    "# partner: none\n",
    "# hours: 3"
   ]
  },
  {
   "cell_type": "code",
   "execution_count": 2,
   "metadata": {},
   "outputs": [
    {
     "output_type": "execute_result",
     "data": {
      "text/plain": [
       "4"
      ]
     },
     "metadata": {},
     "execution_count": 2
    }
   ],
   "source": [
    "#q1\n",
    "2+2"
   ]
  },
  {
   "cell_type": "code",
   "execution_count": 3,
   "metadata": {},
   "outputs": [
    {
     "output_type": "execute_result",
     "data": {
      "text/plain": [
       "int"
      ]
     },
     "metadata": {},
     "execution_count": 3
    }
   ],
   "source": [
    "#q2\n",
    "type(2+2)"
   ]
  },
  {
   "cell_type": "code",
   "execution_count": 4,
   "metadata": {},
   "outputs": [
    {
     "output_type": "execute_result",
     "data": {
      "text/plain": [
       "float"
      ]
     },
     "metadata": {},
     "execution_count": 4
    }
   ],
   "source": [
    "#q3\n",
    "type(2021.6)"
   ]
  },
  {
   "cell_type": "code",
   "execution_count": 5,
   "metadata": {},
   "outputs": [
    {
     "output_type": "execute_result",
     "data": {
      "text/plain": [
       "float"
      ]
     },
     "metadata": {},
     "execution_count": 5
    }
   ],
   "source": [
    "#q4\n",
    "type(2 + 3.0)"
   ]
  },
  {
   "cell_type": "code",
   "execution_count": 6,
   "metadata": {},
   "outputs": [
    {
     "output_type": "execute_result",
     "data": {
      "text/plain": [
       "int"
      ]
     },
     "metadata": {},
     "execution_count": 6
    }
   ],
   "source": [
    "#q5\n",
    "type(2021 // 3)"
   ]
  },
  {
   "cell_type": "code",
   "execution_count": 7,
   "metadata": {},
   "outputs": [
    {
     "output_type": "execute_result",
     "data": {
      "text/plain": [
       "str"
      ]
     },
     "metadata": {},
     "execution_count": 7
    }
   ],
   "source": [
    "#q6\n",
    "type(\"2020\" + \"1\")"
   ]
  },
  {
   "cell_type": "code",
   "execution_count": 8,
   "metadata": {},
   "outputs": [
    {
     "output_type": "execute_result",
     "data": {
      "text/plain": [
       "bool"
      ]
     },
     "metadata": {},
     "execution_count": 8
    }
   ],
   "source": [
    "#q7\n",
    "type(True)"
   ]
  },
  {
   "cell_type": "code",
   "execution_count": 9,
   "metadata": {},
   "outputs": [
    {
     "output_type": "execute_result",
     "data": {
      "text/plain": [
       "str"
      ]
     },
     "metadata": {},
     "execution_count": 9
    }
   ],
   "source": [
    "#q8\n",
    "type(\"True\")"
   ]
  },
  {
   "cell_type": "code",
   "execution_count": 10,
   "metadata": {},
   "outputs": [
    {
     "output_type": "execute_result",
     "data": {
      "text/plain": [
       "bool"
      ]
     },
     "metadata": {},
     "execution_count": 10
    }
   ],
   "source": [
    "#q9\n",
    "type(2021 > 2020)"
   ]
  },
  {
   "cell_type": "code",
   "execution_count": 11,
   "metadata": {},
   "outputs": [
    {
     "output_type": "execute_result",
     "data": {
      "text/plain": [
       "2021"
      ]
     },
     "metadata": {},
     "execution_count": 11
    }
   ],
   "source": [
    "#q10\n",
    "2000+21"
   ]
  },
  {
   "cell_type": "code",
   "execution_count": 12,
   "metadata": {},
   "outputs": [
    {
     "output_type": "execute_result",
     "data": {
      "text/plain": [
       "':):):):):):):-):-):-)'"
      ]
     },
     "metadata": {},
     "execution_count": 12
    }
   ],
   "source": [
    "#q11\n",
    "\":)\" * 6 + \":-)\" * 3"
   ]
  },
  {
   "cell_type": "code",
   "execution_count": 13,
   "metadata": {},
   "outputs": [
    {
     "output_type": "execute_result",
     "data": {
      "text/plain": [
       "42"
      ]
     },
     "metadata": {},
     "execution_count": 13
    }
   ],
   "source": [
    "#q12\n",
    "6 * 7"
   ]
  },
  {
   "cell_type": "code",
   "execution_count": 14,
   "metadata": {},
   "outputs": [
    {
     "output_type": "execute_result",
     "data": {
      "text/plain": [
       "216"
      ]
     },
     "metadata": {},
     "execution_count": 14
    }
   ],
   "source": [
    "#q13\n",
    "6 ** 3"
   ]
  },
  {
   "cell_type": "code",
   "execution_count": 15,
   "metadata": {},
   "outputs": [
    {
     "output_type": "execute_result",
     "data": {
      "text/plain": [
       "1620"
      ]
     },
     "metadata": {},
     "execution_count": 15
    }
   ],
   "source": [
    "#q14\n",
    "P = 20\n",
    "t = 4 \n",
    "r = 3\n",
    "\n",
    "for x in range(t):\n",
    "    A = P * (r ** t)\n",
    "\n",
    "A"
   ]
  },
  {
   "cell_type": "code",
   "execution_count": 16,
   "metadata": {},
   "outputs": [],
   "source": [
    "# Initialize variables:\n",
    "alejandra_checking = 1000\n",
    "alejandra_savings = 200\n",
    "mica_checking = 500"
   ]
  },
  {
   "cell_type": "code",
   "execution_count": 17,
   "metadata": {},
   "outputs": [
    {
     "output_type": "execute_result",
     "data": {
      "text/plain": [
       "False"
      ]
     },
     "metadata": {},
     "execution_count": 17
    }
   ],
   "source": [
    "#q15\n",
    "alejandra_checking > (5 * alejandra_savings)"
   ]
  },
  {
   "source": [
    "#q16\n",
    "account_transfer = 300\n",
    "alejandra_checking = alejandra_checking - account_transfer\n",
    "alejandra_savings = alejandra_savings + account_transfer\n",
    "\n",
    "alejandra_savings = alejandra_savings * (1.04 ** 3)\n",
    "alejandra_savings = alejandra_savings - 462.432\n",
    "alejandra_checking = alejandra_checking + 462.432\n",
    "\n",
    "gift = alejandra_checking * 0.25\n",
    "alejandra_checking = alejandra_checking - gift\n",
    "mica_checking = mica_checking + gift\n",
    "mica_checking"
   ],
   "cell_type": "code",
   "metadata": {},
   "execution_count": 18,
   "outputs": [
    {
     "output_type": "execute_result",
     "data": {
      "text/plain": [
       "790.608"
      ]
     },
     "metadata": {},
     "execution_count": 18
    }
   ]
  },
  {
   "cell_type": "code",
   "execution_count": 19,
   "metadata": {},
   "outputs": [
    {
     "output_type": "execute_result",
     "data": {
      "text/plain": [
       "1762.432"
      ]
     },
     "metadata": {},
     "execution_count": 19
    }
   ],
   "source": [
    "#q17\n",
    "total = mica_checking + alejandra_checking + alejandra_savings\n",
    "total"
   ]
  },
  {
   "cell_type": "code",
   "execution_count": 20,
   "metadata": {},
   "outputs": [
    {
     "output_type": "execute_result",
     "data": {
      "text/plain": [
       "False"
      ]
     },
     "metadata": {},
     "execution_count": 20
    }
   ],
   "source": [
    "#q18\n",
    "accounts = False\n",
    "alejandra_total = alejandra_savings + alejandra_checking\n",
    "\n",
    "if (alejandra_total >= 1000) and (alejandra_total <= 1100):\n",
    "    accounts = True\n",
    "accounts"
   ]
  },
  {
   "cell_type": "code",
   "execution_count": 21,
   "metadata": {},
   "outputs": [
    {
     "output_type": "execute_result",
     "data": {
      "text/plain": [
       "False"
      ]
     },
     "metadata": {},
     "execution_count": 21
    }
   ],
   "source": [
    "#q19\n",
    "letter = \"Z\"\n",
    "is_vowel = letter == (\"A\" or \"E\" or \"I\" or \"O\" or \"U\")\n",
    "is_vowel"
   ]
  },
  {
   "cell_type": "code",
   "execution_count": 22,
   "metadata": {},
   "outputs": [
    {
     "output_type": "execute_result",
     "data": {
      "text/plain": [
       "100.48"
      ]
     },
     "metadata": {},
     "execution_count": 22
    }
   ],
   "source": [
    "#q20\n",
    "pi = 3.14\n",
    "r = 4\n",
    "h = 2\n",
    "v = pi * (r **2 ) * h\n",
    "v"
   ]
  }
 ]
}