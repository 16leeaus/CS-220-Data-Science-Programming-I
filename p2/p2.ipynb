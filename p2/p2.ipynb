{
 "metadata": {
  "language_info": {
   "codemirror_mode": {
    "name": "ipython",
    "version": 3
   },
   "file_extension": ".py",
   "mimetype": "text/x-python",
   "name": "python",
   "nbconvert_exporter": "python",
   "pygments_lexer": "ipython3",
   "version": "3.9.5"
  },
  "orig_nbformat": 4,
  "kernelspec": {
   "name": "python3",
   "display_name": "Python 3.9.5 64-bit (windows store)"
  },
  "interpreter": {
   "hash": "0390282857b0f1d23906851b264b65c5961f2a459d8f279bdc74e540d037d235"
  }
 },
 "nbformat": 4,
 "nbformat_minor": 2,
 "cells": [
  {
   "cell_type": "code",
   "execution_count": 1,
   "metadata": {},
   "outputs": [],
   "source": [
    "# project: p2\n",
    "# submitter: alee88\n",
    "# partner: none\n",
    "# hours: 3"
   ]
  },
  {
   "cell_type": "code",
   "execution_count": 2,
   "metadata": {},
   "outputs": [],
   "source": [
    "from cs220 import load_table, cell\n",
    "load_table(\"covid-bikes.csv\")"
   ]
  },
  {
   "cell_type": "code",
   "execution_count": 3,
   "metadata": {},
   "outputs": [
    {
     "output_type": "execute_result",
     "data": {
      "text/plain": [
       "'missing'"
      ]
     },
     "metadata": {},
     "execution_count": 3
    }
   ],
   "source": [
    "#q1\n",
    "cell(\"August 2020\", \"capital\")"
   ]
  },
  {
   "cell_type": "code",
   "execution_count": 4,
   "metadata": {},
   "outputs": [
    {
     "output_type": "execute_result",
     "data": {
      "text/plain": [
       "85817"
      ]
     },
     "metadata": {},
     "execution_count": 4
    }
   ],
   "source": [
    "#q2\n",
    "august_2019 = cell(\"August 2019\", \"capital\")\n",
    "int(august_2019)"
   ]
  },
  {
   "cell_type": "code",
   "execution_count": 5,
   "metadata": {},
   "outputs": [
    {
     "output_type": "execute_result",
     "data": {
      "text/plain": [
       "12107.666666666666"
      ]
     },
     "metadata": {},
     "execution_count": 5
    }
   ],
   "source": [
    "#q3\n",
    "january_2018 = cell(\"January 2018\", \"southwest\")\n",
    "january_2018 = int(january_2018)\n",
    "\n",
    "january_2019 = cell(\"January 2019\", \"southwest\")\n",
    "january_2019 = int(january_2019)\n",
    "\n",
    "january_2020 = cell(\"January 2020\", \"southwest\")\n",
    "january_2020 = int(january_2020)\n",
    "\n",
    "avg = ((january_2018 + january_2019 + january_2020) / 3)\n",
    "avg"
   ]
  },
  {
   "cell_type": "code",
   "execution_count": 6,
   "metadata": {},
   "outputs": [
    {
     "output_type": "execute_result",
     "data": {
      "text/plain": [
       "498076"
      ]
     },
     "metadata": {},
     "execution_count": 6
    }
   ],
   "source": [
    "#q4\n",
    "\n",
    "path = \"capital\"\n",
    "year = 2018\n",
    "\n",
    "total = (\n",
    "    int(cell(\"January \" + str(year), path)) +\n",
    "    int(cell(\"February \" + str(year), path)) +\n",
    "    int(cell(\"March \" + str(year), path)) +\n",
    "    int(cell(\"April \" + str(year), path)) +\n",
    "    int(cell(\"May \" + str(year), path)) +\n",
    "    int(cell(\"June \" + str(year), path)) +\n",
    "    int(cell(\"July \" + str(year), path)) +\n",
    "    int(cell(\"August \" + str(year), path)) +\n",
    "    int(cell(\"September \" + str(year), path)) +\n",
    "    int(cell(\"October \" + str(year), path)) +\n",
    "    int(cell(\"November \" + str(year), path)) +\n",
    "    int(cell(\"December \" + str(year), path))\n",
    ")\n",
    "total"
   ]
  },
  {
   "cell_type": "code",
   "execution_count": 7,
   "metadata": {},
   "outputs": [],
   "source": [
    "def lookup(path, month, year = 2020):\n",
    "    if year == None:\n",
    "        year = 2020\n",
    "\n",
    "    months = [\"January\", \"February\", \"March\", \"April\", \"May\", \"June\", \"July\", \"August\", \"September\", \"October\", \"November\", \"December\"]\n",
    "\n",
    "    if type(month) == int:\n",
    "        month = months[month - 1]\n",
    "    result = int(cell(month + \" \" + str(year), path))\n",
    "    return result"
   ]
  },
  {
   "cell_type": "code",
   "execution_count": 8,
   "metadata": {},
   "outputs": [
    {
     "output_type": "execute_result",
     "data": {
      "text/plain": [
       "13510"
      ]
     },
     "metadata": {},
     "execution_count": 8
    }
   ],
   "source": [
    "lookup(\"southwest\", 1, 2019)"
   ]
  },
  {
   "cell_type": "code",
   "execution_count": 9,
   "metadata": {},
   "outputs": [
    {
     "output_type": "execute_result",
     "data": {
      "text/plain": [
       "13510"
      ]
     },
     "metadata": {},
     "execution_count": 9
    }
   ],
   "source": [
    "#q5\n",
    "lookup(\"southwest\", \"January\", 2019)"
   ]
  },
  {
   "cell_type": "code",
   "execution_count": 10,
   "metadata": {},
   "outputs": [
    {
     "output_type": "execute_result",
     "data": {
      "text/plain": [
       "11158"
      ]
     },
     "metadata": {},
     "execution_count": 10
    }
   ],
   "source": [
    "#q6\n",
    "lookup(\"capital\", \"January\")"
   ]
  },
  {
   "cell_type": "code",
   "execution_count": 11,
   "metadata": {},
   "outputs": [],
   "source": [
    "def year_sum(path, year):\n",
    "    total = (\n",
    "    int(cell(\"January \" + str(year), path)) +\n",
    "    int(cell(\"February \" + str(year), path)) +\n",
    "    int(cell(\"March \" + str(year), path)) +\n",
    "    int(cell(\"April \" + str(year), path)) +\n",
    "    int(cell(\"May \" + str(year), path)) +\n",
    "    int(cell(\"June \" + str(year), path)) +\n",
    "    int(cell(\"July \" + str(year), path)) +\n",
    "    int(cell(\"August \" + str(year), path)) +\n",
    "    int(cell(\"September \" + str(year), path)) +\n",
    "    int(cell(\"October \" + str(year), path)) +\n",
    "    int(cell(\"November \" + str(year), path)) +\n",
    "    int(cell(\"December \" + str(year), path))\n",
    ")\n",
    "    return total"
   ]
  },
  {
   "cell_type": "code",
   "execution_count": 12,
   "metadata": {},
   "outputs": [
    {
     "output_type": "execute_result",
     "data": {
      "text/plain": [
       "495435"
      ]
     },
     "metadata": {},
     "execution_count": 12
    }
   ],
   "source": [
    "#q7\n",
    "year_sum(\"capital\", 2019)"
   ]
  },
  {
   "cell_type": "code",
   "execution_count": 13,
   "metadata": {},
   "outputs": [
    {
     "output_type": "execute_result",
     "data": {
      "text/plain": [
       "343431"
      ]
     },
     "metadata": {},
     "execution_count": 13
    }
   ],
   "source": [
    "#q8\n",
    "year_sum(\"southwest\", 2019)"
   ]
  },
  {
   "cell_type": "code",
   "execution_count": 14,
   "metadata": {},
   "outputs": [],
   "source": [
    "def is_missing(path, month, year):\n",
    "    return cell(month + \" \" + str(year), path) == \"missing\""
   ]
  },
  {
   "cell_type": "code",
   "execution_count": 15,
   "metadata": {},
   "outputs": [
    {
     "output_type": "execute_result",
     "data": {
      "text/plain": [
       "True"
      ]
     },
     "metadata": {},
     "execution_count": 15
    }
   ],
   "source": [
    "#q9\n",
    "is_missing(\"capital\", \"July\", 2020)"
   ]
  },
  {
   "cell_type": "code",
   "execution_count": 16,
   "metadata": {},
   "outputs": [
    {
     "output_type": "execute_result",
     "data": {
      "text/plain": [
       "False"
      ]
     },
     "metadata": {},
     "execution_count": 16
    }
   ],
   "source": [
    "#q10\n",
    "is_missing(\"southwest\", \"July\", 2020)"
   ]
  },
  {
   "cell_type": "code",
   "execution_count": 17,
   "metadata": {},
   "outputs": [],
   "source": [
    "def covid_impact(path, month):\n",
    "    old = lookup(path, month, 2019)\n",
    "    new = lookup(path, month, 2020)\n",
    "\n",
    "    change = ((new - old) / old) * 100\n",
    "    round(change)\n",
    "    if change > 0:\n",
    "        return (\"riders up \" + str(round(change)) + \"%\")\n",
    "    if change < 0:\n",
    "        return (\"riders down \" + str(round(abs(change))) + \"%\")\n",
    "    "
   ]
  },
  {
   "cell_type": "code",
   "execution_count": 18,
   "metadata": {},
   "outputs": [
    {
     "output_type": "execute_result",
     "data": {
      "text/plain": [
       "'riders down 26%'"
      ]
     },
     "metadata": {},
     "execution_count": 18
    }
   ],
   "source": [
    "#q11\n",
    "covid_impact(\"southwest\", \"May\")"
   ]
  },
  {
   "cell_type": "code",
   "execution_count": 19,
   "metadata": {},
   "outputs": [
    {
     "output_type": "execute_result",
     "data": {
      "text/plain": [
       "'riders up 19%'"
      ]
     },
     "metadata": {},
     "execution_count": 19
    }
   ],
   "source": [
    "#q12\n",
    "covid_impact(\"capital\", \"May\")"
   ]
  },
  {
   "cell_type": "code",
   "execution_count": 20,
   "metadata": {},
   "outputs": [
    {
     "output_type": "execute_result",
     "data": {
      "text/plain": [
       "'riders up 6%'"
      ]
     },
     "metadata": {},
     "execution_count": 20
    }
   ],
   "source": [
    "#q13\n",
    "covid_impact(\"capital\", \"June\")"
   ]
  },
  {
   "cell_type": "code",
   "execution_count": 21,
   "metadata": {},
   "outputs": [],
   "source": [
    "def save_month_avg(path, month):\n",
    "    average = 0\n",
    "    num_years = 0\n",
    "    month_2018 = 0\n",
    "    month_2019 = 0\n",
    "    month_2020 = 0\n",
    "    three_year_total = 0 \n",
    "\n",
    "    if is_missing(path, month, 2018) == False:\n",
    "        month_2018 = lookup(path, month, 2018)\n",
    "        num_years += 1\n",
    "\n",
    "    if is_missing(path, month, 2019) == False:\n",
    "        month_2019 = lookup(path, month, 2019)\n",
    "        num_years += 1\n",
    "\n",
    "    if is_missing(path, month, 2020) == False:\n",
    "        month_2020 = lookup(path, month, 2020)\n",
    "        num_years += 1\n",
    "\n",
    "    three_year_total = month_2018 + month_2019 + month_2020\n",
    "    average = three_year_total / num_years\n",
    "\n",
    "    return average"
   ]
  },
  {
   "cell_type": "code",
   "execution_count": 22,
   "metadata": {},
   "outputs": [
    {
     "output_type": "execute_result",
     "data": {
      "text/plain": [
       "89136.5"
      ]
     },
     "metadata": {},
     "execution_count": 22
    }
   ],
   "source": [
    "#q14\n",
    "save_month_avg(\"capital\", \"July\")"
   ]
  },
  {
   "cell_type": "code",
   "execution_count": 23,
   "metadata": {},
   "outputs": [
    {
     "output_type": "execute_result",
     "data": {
      "text/plain": [
       "75047.66666666667"
      ]
     },
     "metadata": {},
     "execution_count": 23
    }
   ],
   "source": [
    "#q15\n",
    "save_month_avg(\"capital\", \"June\")"
   ]
  },
  {
   "cell_type": "code",
   "execution_count": 24,
   "metadata": {},
   "outputs": [
    {
     "output_type": "execute_result",
     "data": {
      "text/plain": [
       "8878"
      ]
     },
     "metadata": {},
     "execution_count": 24
    }
   ],
   "source": [
    "#q16\n",
    "lookup(\"capital\", 1, 2019)"
   ]
  },
  {
   "cell_type": "code",
   "execution_count": 25,
   "metadata": {},
   "outputs": [],
   "source": [
    "# Global Variables:\n",
    "next_sw_year = 2018\n",
    "next_sw_month = 11\n",
    "\n",
    "def get_next_sw():\n",
    "    path = \"southwest\"\n",
    "    global next_sw_month\n",
    "    global next_sw_year\n",
    "    if next_sw_month == 13:\n",
    "        next_sw_month = 1\n",
    "        next_sw_year += 1\n",
    "\n",
    "    result = lookup(path, next_sw_month, next_sw_year)\n",
    "    next_sw_month += 1\n",
    "    \n",
    "    return result"
   ]
  },
  {
   "cell_type": "code",
   "execution_count": 26,
   "metadata": {},
   "outputs": [
    {
     "output_type": "execute_result",
     "data": {
      "text/plain": [
       "19598"
      ]
     },
     "metadata": {},
     "execution_count": 26
    }
   ],
   "source": [
    "#q17\n",
    "get_next_sw()"
   ]
  },
  {
   "cell_type": "code",
   "execution_count": 27,
   "metadata": {},
   "outputs": [
    {
     "output_type": "execute_result",
     "data": {
      "text/plain": [
       "16680"
      ]
     },
     "metadata": {},
     "execution_count": 27
    }
   ],
   "source": [
    "#q18\n",
    "get_next_sw()"
   ]
  },
  {
   "cell_type": "code",
   "execution_count": 28,
   "metadata": {},
   "outputs": [
    {
     "output_type": "execute_result",
     "data": {
      "text/plain": [
       "13510"
      ]
     },
     "metadata": {},
     "execution_count": 28
    }
   ],
   "source": [
    "#q19\n",
    "get_next_sw()"
   ]
  },
  {
   "cell_type": "code",
   "execution_count": 29,
   "metadata": {},
   "outputs": [
    {
     "output_type": "execute_result",
     "data": {
      "text/plain": [
       "14423"
      ]
     },
     "metadata": {},
     "execution_count": 29
    }
   ],
   "source": [
    "#q20\n",
    "get_next_sw()"
   ]
  }
 ]
}