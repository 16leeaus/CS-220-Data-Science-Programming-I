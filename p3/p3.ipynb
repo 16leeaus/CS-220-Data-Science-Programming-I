{
 "metadata": {
  "language_info": {
   "codemirror_mode": {
    "name": "ipython",
    "version": 3
   },
   "file_extension": ".py",
   "mimetype": "text/x-python",
   "name": "python",
   "nbconvert_exporter": "python",
   "pygments_lexer": "ipython3",
   "version": "3.9.2"
  },
  "orig_nbformat": 4,
  "kernelspec": {
   "name": "python3",
   "display_name": "Python 3.9.2 64-bit"
  },
  "interpreter": {
   "hash": "ac59ebe37160ed0dfa835113d9b8498d9f09ceb179beaac4002f036b9467c963"
  }
 },
 "nbformat": 4,
 "nbformat_minor": 2,
 "cells": [
  {
   "cell_type": "code",
   "execution_count": 1,
   "metadata": {},
   "outputs": [],
   "source": [
    "# project: p3\n",
    "# submitter: alee88\n",
    "# partner: none\n",
    "# hours: 4"
   ]
  },
  {
   "cell_type": "code",
   "execution_count": 2,
   "metadata": {},
   "outputs": [
    {
     "output_type": "stream",
     "name": "stdout",
     "text": [
      "ROWS:\n0, 1, 10, 100, 101, 102, 103, 104, 105, 106, 107, 108, 109, 11, 110, 111, 112, 113, 114, 115 \n\nCOLUMNS:\nname, formed, dissipated, mph, damage, deaths\n"
     ]
    }
   ],
   "source": [
    "import cs220\n",
    "dir(cs220)\n",
    "from cs220 import load_table, cell, row_count\n",
    "load_table(\"hurricanes.csv\")"
   ]
  },
  {
   "cell_type": "code",
   "execution_count": 3,
   "metadata": {},
   "outputs": [
    {
     "output_type": "execute_result",
     "data": {
      "text/plain": [
       "133"
      ]
     },
     "metadata": {},
     "execution_count": 3
    }
   ],
   "source": [
    "#q1\n",
    "num_rows = row_count()\n",
    "num_rows"
   ]
  },
  {
   "source": [
    "#q2\n",
    "cell(20, \"name\")"
   ],
   "cell_type": "code",
   "metadata": {},
   "execution_count": 4,
   "outputs": [
    {
     "output_type": "execute_result",
     "data": {
      "text/plain": [
       "'Dora'"
      ]
     },
     "metadata": {},
     "execution_count": 4
    }
   ]
  },
  {
   "cell_type": "code",
   "execution_count": 5,
   "metadata": {},
   "outputs": [
    {
     "output_type": "execute_result",
     "data": {
      "text/plain": [
       "'1'"
      ]
     },
     "metadata": {},
     "execution_count": 5
    }
   ],
   "source": [
    "#q3\n",
    "cell(int(row_count() - 1), \"deaths\")"
   ]
  },
  {
   "cell_type": "code",
   "execution_count": 6,
   "metadata": {},
   "outputs": [
    {
     "output_type": "execute_result",
     "data": {
      "text/plain": [
       "3"
      ]
     },
     "metadata": {},
     "execution_count": 6
    }
   ],
   "source": [
    "#q4\n",
    "count = 0 \n",
    "\n",
    "for row in range(row_count() -1):\n",
    "    name = cell(row, \"name\")\n",
    "    if (name.lower() == \"florence\"):\n",
    "        count += 1\n",
    "count"
   ]
  },
  {
   "cell_type": "code",
   "execution_count": 7,
   "metadata": {},
   "outputs": [
    {
     "output_type": "execute_result",
     "data": {
      "text/plain": [
       "190"
      ]
     },
     "metadata": {},
     "execution_count": 7
    }
   ],
   "source": [
    "#q5\n",
    "fastest_hurricane_speed = int(cell(0, \"mph\"))\n",
    "fastest_hurricane_name = cell(0, \"name\")\n",
    "\n",
    "for row in range(row_count() - 1):\n",
    "    curr_speed = int(cell(row, \"mph\"))\n",
    "    curr_name = cell(row, \"name\")\n",
    "    if (curr_speed > fastest_hurricane_speed):\n",
    "        fastest_hurricane_speed = curr_speed\n",
    "        fastest_hurricane_name = curr_name\n",
    "\n",
    "fastest_hurricane_speed"
   ]
  },
  {
   "cell_type": "code",
   "execution_count": 8,
   "metadata": {},
   "outputs": [
    {
     "output_type": "execute_result",
     "data": {
      "text/plain": [
       "'Floyd'"
      ]
     },
     "metadata": {},
     "execution_count": 8
    }
   ],
   "source": [
    "#q6\n",
    "slowest_hurricane_speed = int(cell(0, \"mph\"))\n",
    "slowest_hurricane_name = cell(0, \"name\")\n",
    "\n",
    "for row in range(row_count() - 1):\n",
    "    curr_speed = int(cell(row, \"mph\"))\n",
    "    curr_name = cell(row, \"name\")\n",
    "    if (curr_speed < slowest_hurricane_speed):\n",
    "        slowest_hurricane_speed = curr_speed\n",
    "        slowest_hurricane_name = curr_name\n",
    "\n",
    "slowest_hurricane_name"
   ]
  },
  {
   "cell_type": "code",
   "execution_count": 9,
   "metadata": {},
   "outputs": [],
   "source": [
    "def parse_damage(damage):\n",
    "    # TODO check the last character of the string\n",
    "    # and then convert it to appropriate integer by slicing and type casting\n",
    "    prefix = damage[0 : -1]\n",
    "    suffix = damage[-1]\n",
    "    if (suffix == \"K\"):\n",
    "        damage_value = float(prefix) * 1000\n",
    "    \n",
    "    if (suffix == \"M\"):\n",
    "        damage_value = float(prefix) * 1000000\n",
    "\n",
    "    if (suffix == \"B\"):\n",
    "        damage_value = float(prefix) * 1000000000\n",
    "\n",
    "    return damage_value"
   ]
  },
  {
   "cell_type": "code",
   "execution_count": 10,
   "metadata": {},
   "outputs": [
    {
     "output_type": "execute_result",
     "data": {
      "text/plain": [
       "6502484699.24812"
      ]
     },
     "metadata": {},
     "execution_count": 10
    }
   ],
   "source": [
    "#q7\n",
    "total_damage = 0\n",
    "mean_damage = 0\n",
    "for i in range(row_count()):\n",
    "    curr_damage = cell(i, \"damage\")\n",
    "    curr_damage = parse_damage(curr_damage)\n",
    "    total_damage += curr_damage\n",
    "total_damage / row_count()"
   ]
  },
  {
   "cell_type": "code",
   "execution_count": 11,
   "metadata": {},
   "outputs": [
    {
     "output_type": "execute_result",
     "data": {
      "text/plain": [
       "8310000000.000001"
      ]
     },
     "metadata": {},
     "execution_count": 11
    }
   ],
   "source": [
    "#q8\n",
    "for i in range(row_count() - 1):\n",
    "    name = cell(i, \"name\")\n",
    "    if (name.lower() == \"gustav\"):\n",
    "        index  = i\n",
    "        damage = cell(i, \"damage\")\n",
    "        damage = parse_damage(damage)\n",
    "\n",
    "damage"
   ]
  },
  {
   "cell_type": "code",
   "execution_count": 12,
   "metadata": {},
   "outputs": [],
   "source": [
    "def get_month(date):\n",
    "    '''Returns the month when the date is the in the 'mm/dd/yyyy' format'''\n",
    "    return int(date[:2])\n",
    "\n",
    "def get_day(date):\n",
    "    '''Returns the day when the date is the in the 'mm/dd/yyyy' format'''\n",
    "    return int(date[3:5])\n",
    "\n",
    "\n",
    "def get_year(date):\n",
    "    '''Returns the year when the date is the in the 'mm/dd/yyyy' format'''\n",
    "    return int(date[-4:])"
   ]
  },
  {
   "cell_type": "code",
   "execution_count": 13,
   "metadata": {},
   "outputs": [],
   "source": [
    "# return index of deadliest hurricane over the given date range\n",
    "#def costliest_in_range(year1, year2):\n",
    "#   worst_idx = None\n",
    "#    for i in range(row_count()):\n",
    "#        if ((get_year(cell(i, \"formed\")) >= year1) and (get_year(cell(i, \"formed\"))) <= year2):\n",
    "#           if worst_idx == None or parse_damage(cell(i, \"damage\")) > parse_damage(cell(worst_idx, \"damage\")):\n",
    "#                worst_idx = i\n",
    "#    return worst_idx"
   ]
  },
  {
   "cell_type": "code",
   "execution_count": 14,
   "metadata": {},
   "outputs": [],
   "source": [
    "def costliest_in_range(year1, year2):\n",
    "    current_most_costly = None\n",
    "    current_top_damage = 0\n",
    "    current_damage_index = 0\n",
    "\n",
    "    for i in range(row_count() - 1):\n",
    "        if ((get_year(cell(i, \"formed\")) > year1) and (get_year(cell(i, \"formed\")) < year2)):\n",
    "            current_damage = parse_damage(cell(i, \"damage\"))\n",
    "            if (current_top_damage == 0):\n",
    "                current_top_damage = current_damage\n",
    "            if (current_damage > current_top_damage):\n",
    "                current_top_damage = current_damage\n",
    "                current_damage_index = i\n",
    "                current_most_costly = cell(i, \"name\")\n",
    "            else:\n",
    "                continue\n",
    "\n",
    "    return current_damage_index"
   ]
  },
  {
   "cell_type": "code",
   "execution_count": 15,
   "metadata": {},
   "outputs": [
    {
     "output_type": "execute_result",
     "data": {
      "text/plain": [
       "'Andrew'"
      ]
     },
     "metadata": {},
     "execution_count": 15
    }
   ],
   "source": [
    "#q9\n",
    "index = costliest_in_range(1900, 1999)\n",
    "cell(index, \"name\")"
   ]
  },
  {
   "cell_type": "code",
   "execution_count": 16,
   "metadata": {},
   "outputs": [
    {
     "output_type": "execute_result",
     "data": {
      "text/plain": [
       "2005"
      ]
     },
     "metadata": {},
     "execution_count": 16
    }
   ],
   "source": [
    "#q10\n",
    "index = costliest_in_range(1800, 2016)\n",
    "get_year(cell(index, \"formed\"))"
   ]
  },
  {
   "cell_type": "code",
   "execution_count": 17,
   "metadata": {},
   "outputs": [
    {
     "output_type": "execute_result",
     "data": {
      "text/plain": [
       "'Katrina'"
      ]
     },
     "metadata": {},
     "execution_count": 17
    }
   ],
   "source": [
    "#q11\n",
    "index = costliest_in_range(float(\"-inf\"), float(\"inf\"))\n",
    "cell(index, \"name\")"
   ]
  },
  {
   "cell_type": "code",
   "execution_count": 18,
   "metadata": {},
   "outputs": [
    {
     "output_type": "execute_result",
     "data": {
      "text/plain": [
       "27300000000.0"
      ]
     },
     "metadata": {},
     "execution_count": 18
    }
   ],
   "source": [
    "#q12\n",
    "index = costliest_in_range(float(\"-inf\"), 2000)\n",
    "parse_damage(cell(index, \"damage\"))"
   ]
  },
  {
   "cell_type": "code",
   "execution_count": 19,
   "metadata": {},
   "outputs": [],
   "source": [
    "def on_or_after(date):\n",
    "\n",
    "    hurricanes_after_date = 0\n",
    "\n",
    "    for i in range(row_count() - 1):\n",
    "        if (get_year(cell(i, \"formed\")) == get_year(date)):\n",
    "            if (get_month(cell(i, \"formed\")) == get_month(date)):\n",
    "                if (get_day(cell(i, \"formed\")) > get_day(date)):\n",
    "                    hurricanes_after_date += 1\n",
    "                else:\n",
    "                    continue\n",
    "            if (get_month(cell(i, \"formed\")) > get_month(date)):\n",
    "                hurricanes_after_date += 1\n",
    "            else:\n",
    "                continue\n",
    "        if (get_year(cell(i, \"formed\")) > get_year(date)):\n",
    "            hurricanes_after_date += 1\n",
    "        else:\n",
    "            continue\n",
    "    return hurricanes_after_date"
   ]
  },
  {
   "cell_type": "code",
   "execution_count": 20,
   "metadata": {},
   "outputs": [
    {
     "output_type": "execute_result",
     "data": {
      "text/plain": [
       "8"
      ]
     },
     "metadata": {},
     "execution_count": 20
    }
   ],
   "source": [
    "#q13\n",
    "on_or_after(\"08/20/2017\")"
   ]
  },
  {
   "cell_type": "code",
   "execution_count": 21,
   "metadata": {},
   "outputs": [
    {
     "output_type": "execute_result",
     "data": {
      "text/plain": [
       "9"
      ]
     },
     "metadata": {},
     "execution_count": 21
    }
   ],
   "source": [
    "#q14\n",
    "on_or_after(\"08/10/2017\")"
   ]
  },
  {
   "cell_type": "code",
   "execution_count": 22,
   "metadata": {},
   "outputs": [
    {
     "output_type": "execute_result",
     "data": {
      "text/plain": [
       "13"
      ]
     },
     "metadata": {},
     "execution_count": 22
    }
   ],
   "source": [
    "#q15\n",
    "on_or_after(\"04/15/2015\")"
   ]
  },
  {
   "cell_type": "code",
   "execution_count": 23,
   "metadata": {},
   "outputs": [],
   "source": [
    "def deaths_per_decade(begining_year):\n",
    "    total_deaths = 0 \n",
    "    ending_year = begining_year + 9\n",
    "    for i in range(row_count() - 1):\n",
    "        if ((get_year(cell(i, \"formed\")) >= begining_year) and (get_year(cell(i, \"formed\")) <= ending_year)):\n",
    "            curr_deaths = int(cell(i, \"deaths\"))\n",
    "            total_deaths += curr_deaths\n",
    "\n",
    "    return total_deaths"
   ]
  },
  {
   "cell_type": "code",
   "execution_count": 24,
   "metadata": {},
   "outputs": [
    {
     "output_type": "execute_result",
     "data": {
      "text/plain": [
       "810"
      ]
     },
     "metadata": {},
     "execution_count": 24
    }
   ],
   "source": [
    "#q16\n",
    "deaths_per_decade(1950)"
   ]
  },
  {
   "cell_type": "code",
   "execution_count": 25,
   "metadata": {},
   "outputs": [
    {
     "output_type": "execute_result",
     "data": {
      "text/plain": [
       "1956"
      ]
     },
     "metadata": {},
     "execution_count": 25
    }
   ],
   "source": [
    "#q17\n",
    "deaths_per_decade(1960)"
   ]
  },
  {
   "cell_type": "code",
   "execution_count": 26,
   "metadata": {},
   "outputs": [
    {
     "output_type": "execute_result",
     "data": {
      "text/plain": [
       "1960"
      ]
     },
     "metadata": {},
     "execution_count": 26
    }
   ],
   "source": [
    "#q18\n",
    "deadliest_decade = 0\n",
    "most_deaths = 0\n",
    "for i in range(10):\n",
    "    decade = 1900 + 10*i\n",
    "    deaths = deaths_per_decade(decade)\n",
    "    if deaths > most_deaths:\n",
    "        most_deaths = deaths\n",
    "        deadliest_decade = decade\n",
    "    else:\n",
    "        continue\n",
    "deadliest_decade"
   ]
  },
  {
   "cell_type": "code",
   "execution_count": 27,
   "metadata": {},
   "outputs": [
    {
     "output_type": "execute_result",
     "data": {
      "text/plain": [
       "['Allen',\n",
       " 'Andrew',\n",
       " 'Camille',\n",
       " 'Irma',\n",
       " 'Karen',\n",
       " 'Katrina',\n",
       " 'Labor Day',\n",
       " 'Maria',\n",
       " 'Rita',\n",
       " 'Wilma']"
      ]
     },
     "metadata": {},
     "execution_count": 27
    }
   ],
   "source": [
    "#q19\n",
    "fast_hurricanes = []\n",
    "for row in range(row_count() - 1):\n",
    "    if (int(cell(row, \"mph\")) >= 170):\n",
    "        fast_hurricanes.append(cell(row, \"name\"))\n",
    "\n",
    "sorted(fast_hurricanes)"
   ]
  },
  {
   "cell_type": "code",
   "execution_count": 28,
   "metadata": {},
   "outputs": [
    {
     "output_type": "execute_result",
     "data": {
      "text/plain": [
       "779"
      ]
     },
     "metadata": {},
     "execution_count": 28
    }
   ],
   "source": [
    "#q20\n",
    "names = [\"Allen\", \"Labor Day\", \"Wilma\"]\n",
    "def get_total_deaths(names):\n",
    "    total_deaths = 0\n",
    "    for row in range(row_count() - 1):\n",
    "        name = cell(row, \"name\")\n",
    "        if (name in names):\n",
    "            deaths = int(cell(row, \"deaths\"))\n",
    "            total_deaths += deaths\n",
    "\n",
    "    return total_deaths\n",
    "\n",
    "get_total_deaths(names)"
   ]
  }
 ]
}