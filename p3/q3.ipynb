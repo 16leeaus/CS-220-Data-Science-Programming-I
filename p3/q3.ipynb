{
 "metadata": {
  "language_info": {
   "codemirror_mode": {
    "name": "ipython",
    "version": 3
   },
   "file_extension": ".py",
   "mimetype": "text/x-python",
   "name": "python",
   "nbconvert_exporter": "python",
   "pygments_lexer": "ipython3",
   "version": "3.9.2"
  },
  "orig_nbformat": 4,
  "kernelspec": {
   "name": "python3",
   "display_name": "Python 3.9.2 64-bit"
  },
  "interpreter": {
   "hash": "ac59ebe37160ed0dfa835113d9b8498d9f09ceb179beaac4002f036b9467c963"
  }
 },
 "nbformat": 4,
 "nbformat_minor": 2,
 "cells": [
  {
   "cell_type": "code",
   "execution_count": 1,
   "metadata": {},
   "outputs": [],
   "source": [
    "#q2\n",
    "def func_1(a,b):\n",
    "    if a:\n",
    "        if not b:\n",
    "            return True\n",
    "        else:\n",
    "            return False\n",
    "    else:\n",
    "        if b:\n",
    "            return True\n",
    "        else:\n",
    "            return False"
   ]
  },
  {
   "cell_type": "code",
   "execution_count": 2,
   "metadata": {},
   "outputs": [
    {
     "output_type": "execute_result",
     "data": {
      "text/plain": [
       "True"
      ]
     },
     "metadata": {},
     "execution_count": 2
    }
   ],
   "source": [
    "func_1(True,False)"
   ]
  },
  {
   "cell_type": "code",
   "execution_count": 3,
   "metadata": {},
   "outputs": [
    {
     "output_type": "stream",
     "name": "stdout",
     "text": [
      "carcars\n"
     ]
    }
   ],
   "source": [
    "#q3\n",
    "b = 'car'\n",
    "c = 's'\n",
    "\n",
    "def a(b, c):\n",
    "    d = b + b + c\n",
    "    return d\n",
    "    d = b + c\n",
    "    return d\n",
    "\n",
    "print(a(b, c))"
   ]
  },
  {
   "cell_type": "code",
   "execution_count": 4,
   "metadata": {},
   "outputs": [
    {
     "output_type": "execute_result",
     "data": {
      "text/plain": [
       "-5"
      ]
     },
     "metadata": {},
     "execution_count": 4
    }
   ],
   "source": [
    "#q4\n",
    "n1 = 5\n",
    "n2 = 8\n",
    "sign = 'minus'\n",
    "\n",
    "def calculator(n1, n2, sign = 'plus'):\n",
    "    if sign == 'plus':\n",
    "        return n1+n2\n",
    "    elif sign == 'minus':\n",
    "        return n1-n2\n",
    "    elif sign == 'divide':\n",
    "        return n1/n2\n",
    "    elif sign == 'multiply':\n",
    "        return n1*n2\n",
    "    else:\n",
    "        return 'We could not identify the sign you want!'\n",
    "\n",
    "calculator(n1, 10, sign)"
   ]
  },
  {
   "cell_type": "code",
   "execution_count": 5,
   "metadata": {},
   "outputs": [
    {
     "output_type": "stream",
     "name": "stdout",
     "text": [
      "good afternoon\n"
     ]
    }
   ],
   "source": [
    "#q5\n",
    "greeting = \"good\"\n",
    "time = \"morning\"\n",
    "\n",
    "def change():\n",
    "    global greeting\n",
    "    greeting = \"Good\"\n",
    "    time = \"morning!\"\n",
    "    \n",
    "def modify_greeting():\n",
    "    greeting = \"Have a good\"\n",
    "    global time    \n",
    "    time = \"afternoon\"\n",
    "\n",
    "modify_greeting()\n",
    "print(greeting,time)"
   ]
  },
  {
   "cell_type": "code",
   "execution_count": null,
   "metadata": {},
   "outputs": [],
   "source": [
    "#q6\n",
    "msg = 'hello'\n",
    "\n",
    "def greeting():\n",
    "    message = 'welcome!'\n",
    "    print('greeting: ' + message)\n",
    "\n",
    "print('before: ' + msg)\n",
    "greeting()\n",
    "print('after: ' + msg)\n",
    "\n",
    "# msg is a global variable.\n",
    "# message is a local variable."
   ]
  },
  {
   "cell_type": "code",
   "execution_count": 2,
   "metadata": {},
   "outputs": [
    {
     "output_type": "stream",
     "name": "stdout",
     "text": [
      "Print,Me!\n"
     ]
    }
   ],
   "source": [
    "print (\"Print\", \"Me\", sep=\",\" , end=\"!\\n\")"
   ]
  },
  {
   "cell_type": "code",
   "execution_count": 10,
   "metadata": {},
   "outputs": [
    {
     "output_type": "stream",
     "name": "stdout",
     "text": [
      "You are a teenager\nYou are a child\n"
     ]
    }
   ],
   "source": [
    "#q8a\n",
    "age = 15\n",
    "if age >= 18:\n",
    "    print(\"You are an adult\")\n",
    "if age >= 13:\n",
    "    print(\"You are a teenager\")\n",
    "if age >= 10:\n",
    "    print(\"You are a child\")"
   ]
  },
  {
   "cell_type": "code",
   "execution_count": 11,
   "metadata": {},
   "outputs": [
    {
     "output_type": "stream",
     "name": "stdout",
     "text": [
      "You are a teenager\n"
     ]
    }
   ],
   "source": [
    "#q8b\n",
    "age = 15\n",
    "if age >= 18:\n",
    "    print(\"You are an adult\")\n",
    "elif age >= 13:\n",
    "    print(\"You are a teenager\")\n",
    "elif age >= 10:\n",
    "    print(\"You are a child\")"
   ]
  },
  {
   "cell_type": "code",
   "execution_count": null,
   "metadata": {},
   "outputs": [],
   "source": [
    "#q8A\n",
    "Each condition in code block A is checked regardless of the value of age, whereas code block B finishes execution once a single condition is satisfied\n",
    "\n",
    "The output of code block A is:\n",
    "\n",
    "You are a teenager\n",
    "You are a child"
   ]
  },
  {
   "cell_type": "code",
   "execution_count": null,
   "metadata": {},
   "outputs": [],
   "source": [
    "#q9\n",
    "mv madison.txt madison.csv"
   ]
  },
  {
   "cell_type": "code",
   "execution_count": 7,
   "metadata": {},
   "outputs": [
    {
     "output_type": "execute_result",
     "data": {
      "text/plain": [
       "True"
      ]
     },
     "metadata": {},
     "execution_count": 7
    }
   ],
   "source": [
    "#q12\n",
    "def and2(cond1, cond2): \n",
    "    return cond1 and cond2\n",
    "\n",
    "and2(True, True)"
   ]
  },
  {
   "cell_type": "code",
   "execution_count": 8,
   "metadata": {},
   "outputs": [
    {
     "output_type": "execute_result",
     "data": {
      "text/plain": [
       "False"
      ]
     },
     "metadata": {},
     "execution_count": 8
    }
   ],
   "source": [
    "def and2(cond1, cond2): \n",
    "    rv = False \n",
    "    rv = rv and cond1 \n",
    "    rv = rv and cond2 \n",
    "    return rv\n",
    "\n",
    "and2(True, True)"
   ]
  },
  {
   "cell_type": "code",
   "execution_count": 6,
   "metadata": {},
   "outputs": [
    {
     "output_type": "execute_result",
     "data": {
      "text/plain": [
       "False"
      ]
     },
     "metadata": {},
     "execution_count": 6
    }
   ],
   "source": [
    "#q13\n",
    "def is_220(a, b, c): \n",
    "    return a==2 and b==2 and c==0\n",
    "\n",
    "is_220(2, 1, 0)"
   ]
  },
  {
   "cell_type": "code",
   "execution_count": 4,
   "metadata": {},
   "outputs": [
    {
     "output_type": "execute_result",
     "data": {
      "text/plain": [
       "True"
      ]
     },
     "metadata": {},
     "execution_count": 4
    }
   ],
   "source": [
    "def is_220(a, b, c): \n",
    "    if a!=2: \n",
    "        return False \n",
    "    if b!=2: \n",
    "        return False \n",
    "    if c!=0: \n",
    "        return False \n",
    "    return True\n",
    "\n",
    "is_220(2, 2, 0)"
   ]
  },
  {
   "cell_type": "code",
   "execution_count": null,
   "metadata": {},
   "outputs": [],
   "source": []
  }
 ]
}