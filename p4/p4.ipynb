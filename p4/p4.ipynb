{
 "metadata": {
  "language_info": {
   "codemirror_mode": {
    "name": "ipython",
    "version": 3
   },
   "file_extension": ".py",
   "mimetype": "text/x-python",
   "name": "python",
   "nbconvert_exporter": "python",
   "pygments_lexer": "ipython3",
   "version": "3.9.5"
  },
  "orig_nbformat": 4,
  "kernelspec": {
   "name": "python3",
   "display_name": "Python 3.9.5 64-bit (windows store)"
  },
  "interpreter": {
   "hash": "0390282857b0f1d23906851b264b65c5961f2a459d8f279bdc74e540d037d235"
  }
 },
 "nbformat": 4,
 "nbformat_minor": 2,
 "cells": [
  {
   "cell_type": "code",
   "execution_count": 1,
   "metadata": {},
   "outputs": [],
   "source": [
    "# project: p4\n",
    "# submitter: alee88\n",
    "# partner: none\n",
    "# hours: 4"
   ]
  },
  {
   "cell_type": "code",
   "execution_count": 2,
   "metadata": {},
   "outputs": [],
   "source": [
    "import csv\n",
    "\n",
    "# copied from https://automatetheboringstuff.com/chapter14/\n",
    "def process_csv(filename):\n",
    "    exampleFile = open(filename, encoding=\"utf-8\")\n",
    "    exampleReader = csv.reader(exampleFile)\n",
    "    exampleData = list(exampleReader)\n",
    "    exampleFile.close()\n",
    "    return exampleData\n",
    "\n",
    "# use process_csv to pull out the header and data rows\n",
    "csv_rows = process_csv(\"ny.csv\")\n",
    "csv_header = csv_rows[0]\n",
    "csv_data = csv_rows[1:]"
   ]
  },
  {
   "cell_type": "code",
   "execution_count": 3,
   "metadata": {},
   "outputs": [],
   "source": [
    "def cell(row_idx, col_name):\n",
    "    \n",
    "    if not col_name in csv_header:\n",
    "        area_id_idx = csv_header.index(\"area_id\")\n",
    "        area_id = csv_data[row_idx][area_id_idx]\n",
    "        if area_id not in areas:\n",
    "            return \"missing\"\n",
    "        return areas[area_id][col_name]\n",
    "    \n",
    "    col_idx = csv_header.index(col_name)\n",
    "    val = csv_data[row_idx][col_idx]\n",
    "    if val == \"\":\n",
    "        return None\n",
    "    # optional: convert types based on column name, ensuring that the\n",
    "    # float and int values are appropriately converted\n",
    "    return val"
   ]
  },
  {
   "cell_type": "code",
   "execution_count": 4,
   "metadata": {},
   "outputs": [
    {
     "output_type": "execute_result",
     "data": {
      "text/plain": [
       "{'Entire home/apt', 'Private room', 'Shared room'}"
      ]
     },
     "metadata": {},
     "execution_count": 4
    }
   ],
   "source": [
    "#q1\n",
    "room_types = set()\n",
    "for i in range(len(csv_data)):\n",
    "    room_type = cell(i, \"room_type\")\n",
    "    room_types.add(room_type)\n",
    "room_types"
   ]
  },
  {
   "cell_type": "code",
   "execution_count": 5,
   "metadata": {},
   "outputs": [],
   "source": [
    "#q2\n",
    "average = 0\n",
    "for i in range(len(csv_data)):\n",
    "    curr_price = cell(i, \"price\")\n",
    "    \n"
   ]
  },
  {
   "cell_type": "code",
   "execution_count": 6,
   "metadata": {},
   "outputs": [
    {
     "output_type": "execute_result",
     "data": {
      "text/plain": [
       "{'1500 sq ft apt sleeps 8 - SuperBowl',\n",
       " '1BR Superbowl rental Hells Kitchen',\n",
       " 'Downtown NY Apt - SuperBowl Weekend',\n",
       " 'MANHATTAN SUPERBOWL ACCOMODATION',\n",
       " 'NYC SuperBowl Wk 5 Bdrs River View ',\n",
       " 'PERFECT SUPERBOWL STAY',\n",
       " 'SUPERBOWL!! 2 Bd, 2 Ba w Roof Deck!',\n",
       " 'SUPERBOWLSUNDAY! 3BLOCK FROM TIMESQ',\n",
       " 'Super Apt for Superbowl',\n",
       " 'SuperBowl Penthouse Loft 3,000 sqft',\n",
       " 'SuperBowl Weekend Rental! 3 BR/1ba',\n",
       " 'SuperBowl West Village Apartment',\n",
       " 'Superbowl - NYC Apartment',\n",
       " 'Superbowl Studio Upper West Side',\n",
       " 'Superbowl in the West Village',\n",
       " 'Tribeca Loft for Superbowl Wknd',\n",
       " 'UWS MANHATTAN APT FOR SUPERBOWL WE'}"
      ]
     },
     "metadata": {},
     "execution_count": 6
    }
   ],
   "source": [
    "#q3\n",
    "name_set = set()\n",
    "for i in range(len(csv_data)):\n",
    "    room_name = cell(i, \"name\")\n",
    "    if room_name == None:\n",
    "        continue\n",
    "    if \"SUPERBOWL\" in room_name.upper():\n",
    "        name_set.add(room_name)\n",
    "name_set"
   ]
  },
  {
   "cell_type": "code",
   "execution_count": 7,
   "metadata": {},
   "outputs": [
    {
     "output_type": "execute_result",
     "data": {
      "text/plain": [
       "{'1 bedroom furnished with WIFI and cable. Murr Hill',\n",
       " '2Bed/ 2Bath Impeccable Stylish Brooklyn Home',\n",
       " 'Cable and wfi, L/G included.',\n",
       " 'Coney Island  Amphitheat  MCU 1 br  Wifi Cable **',\n",
       " 'Coney Island MCU Park Wi fi Cable Apt****',\n",
       " 'Cozy, impeccable, sunlit West Village studio',\n",
       " 'Cozy,budget friendly, cable inc, private entrance!',\n",
       " 'Historic Turret Retreat (Smart TV/Cable/Wifi)',\n",
       " 'Huge 1bdrm w pt Doorman, WiFi/Cable, Bottled Water',\n",
       " 'Impeccable Private one&half bedroom and full bath',\n",
       " 'J- **LUXURY SHARED ROOM 2PPL FREE WIFI+CABLE+AC',\n",
       " 'J- *LUXURY SHARED ROOM AC FREE WIFI CABLE, GARDEN',\n",
       " 'J- HOTEL STYLE SHARE ROOM FOR 2PPL FREE CABLE WIFI',\n",
       " 'J- HOTEL STYLE SHARE ROOM FOR 2PPL FREE WIFI CABLE',\n",
       " 'J- LUXURY SHARED ROOM, AC FREE WIFI+CABLE GARDEN',\n",
       " 'Luxury condo- private room + bath w cable TV/W/D',\n",
       " 'Private Studio: Landmark Dt (Smart TV/Wifi/Cable)',\n",
       " 'Pvt entrance lower level apt w/cable-wi-fi pvt bth',\n",
       " 'ROOM AC WI-FI PARKING CABLE FOR 2',\n",
       " 'Tudor Studio (Wifi/Premium Cable) w Private Entry'}"
      ]
     },
     "metadata": {},
     "execution_count": 7
    }
   ],
   "source": [
    "#q4\n",
    "def find_text_in_string(text_to_find):\n",
    "    name_set = set()\n",
    "    for i in range(len(csv_data)):\n",
    "        room_name = cell(i, \"name\")\n",
    "        if room_name == None:\n",
    "            continue\n",
    "        if text_to_find in room_name.upper():\n",
    "            name_set.add(room_name)\n",
    "    return name_set\n",
    "\n",
    "find_text_in_string(\"CABLE\" or \"FREE WIFI\")"
   ]
  },
  {
   "cell_type": "code",
   "execution_count": 8,
   "metadata": {},
   "outputs": [],
   "source": [
    "def sqft(s):\n",
    "    s = s.lower()\n",
    "    s = s.replace(\" \", \"\")\n",
    "    s = s.replace(\",\", \"\")\n",
    "    sqft_index = s.find(\"sqft\")\n",
    "    if sqft_index == -1:\n",
    "        return 0\n",
    "\n",
    "    s = s[:sqft_index]\n",
    "    start_idx = 0\n",
    "    while not s[len(s)-1].isdigit():\n",
    "        s = s[:-1]\n",
    "    for i in range(len(s) - 1, - 1, - 1):\n",
    "        if not s[i].isdigit():\n",
    "            start_idx = i + 1\n",
    "            break\n",
    "\n",
    "    return int(s[start_idx:])"
   ]
  },
  {
   "cell_type": "code",
   "execution_count": 9,
   "metadata": {},
   "outputs": [
    {
     "output_type": "execute_result",
     "data": {
      "text/plain": [
       "2000"
      ]
     },
     "metadata": {},
     "execution_count": 9
    }
   ],
   "source": [
    "#q5\n",
    "sqft(\"SOHO LOFT: 2000sq ft renovated & centrally located\")"
   ]
  },
  {
   "cell_type": "code",
   "execution_count": 10,
   "metadata": {},
   "outputs": [
    {
     "output_type": "execute_result",
     "data": {
      "text/plain": [
       "1760"
      ]
     },
     "metadata": {},
     "execution_count": 10
    }
   ],
   "source": [
    "#q6\n",
    "sqft(\"1760 Sq ft Penthouse apartment\")"
   ]
  },
  {
   "cell_type": "code",
   "execution_count": 11,
   "metadata": {},
   "outputs": [
    {
     "output_type": "execute_result",
     "data": {
      "text/plain": [
       "1100"
      ]
     },
     "metadata": {},
     "execution_count": 11
    }
   ],
   "source": [
    "#q7\n",
    "sqft(\"Large Room in Hip Lefferts Garden 1,100 SQ Ft Apt.\")"
   ]
  },
  {
   "cell_type": "code",
   "execution_count": 12,
   "metadata": {},
   "outputs": [
    {
     "output_type": "execute_result",
     "data": {
      "text/plain": [
       "3000"
      ]
     },
     "metadata": {},
     "execution_count": 12
    }
   ],
   "source": [
    "#q8\n",
    "sqft(\"SuperBowl Penthouse Loft 3,000 sqft\")"
   ]
  },
  {
   "cell_type": "code",
   "execution_count": 13,
   "metadata": {},
   "outputs": [
    {
     "output_type": "execute_result",
     "data": {
      "text/plain": [
       "0"
      ]
     },
     "metadata": {},
     "execution_count": 13
    }
   ],
   "source": [
    "#q9\n",
    "sqft(\"Newly renovated 2 bedroom with FREE WIFI\")"
   ]
  },
  {
   "cell_type": "code",
   "execution_count": 14,
   "metadata": {},
   "outputs": [
    {
     "output_type": "execute_result",
     "data": {
      "text/plain": [
       "1500"
      ]
     },
     "metadata": {},
     "execution_count": 14
    }
   ],
   "source": [
    "#q10\n",
    "sqft(\"1500+ sq ft 2BR West Village Loft\")"
   ]
  },
  {
   "cell_type": "code",
   "execution_count": 15,
   "metadata": {},
   "outputs": [],
   "source": [
    "areas = {\n",
    " \"100\": {\n",
    "  \"area\": \"Bronx\",\n",
    "  \"neighborhood\": \"Allerton\"\n",
    " },\n",
    " \"101\": {\n",
    "  \"area\": \"Bronx\",\n",
    "  \"neighborhood\": \"Baychester\"\n",
    " },\n",
    " \"102\": {\n",
    "  \"area\": \"Bronx\",\n",
    "  \"neighborhood\": \"Belmont\"\n",
    " },\n",
    " \"179\": {\n",
    "  \"area\": \"Brooklyn\",\n",
    "  \"neighborhood\": \"Kensington\"\n",
    " },\n",
    " \"205\": {\n",
    "  \"area\": \"Manhattan\",\n",
    "  \"neighborhood\": \"Harlem\"\n",
    " },\n",
    " \"318\": {\n",
    "  \"area\": \"Staten Island\",\n",
    "  \"neighborhood\": \"Westerleigh\"\n",
    " },\n",
    " \"319\": {\n",
    "  \"area\": \"Staten Island\",\n",
    "  \"neighborhood\": \"Willowbrook\"\n",
    " },\n",
    " \"320\": {\n",
    "  \"area\": \"Staten Island\",\n",
    "  \"neighborhood\": \"Woodrow\"\n",
    " }\n",
    "}"
   ]
  },
  {
   "cell_type": "code",
   "execution_count": 16,
   "metadata": {},
   "outputs": [
    {
     "output_type": "execute_result",
     "data": {
      "text/plain": [
       "'Manhattan'"
      ]
     },
     "metadata": {},
     "execution_count": 16
    }
   ],
   "source": [
    "#q11\n",
    "cell(2, \"area\")"
   ]
  },
  {
   "cell_type": "code",
   "execution_count": 17,
   "metadata": {},
   "outputs": [
    {
     "output_type": "execute_result",
     "data": {
      "text/plain": [
       "'Kensington'"
      ]
     },
     "metadata": {},
     "execution_count": 17
    }
   ],
   "source": [
    "#q12\n",
    "cell(0, \"neighborhood\")"
   ]
  },
  {
   "cell_type": "code",
   "execution_count": 18,
   "metadata": {},
   "outputs": [
    {
     "output_type": "execute_result",
     "data": {
      "text/plain": [
       "'missing'"
      ]
     },
     "metadata": {},
     "execution_count": 18
    }
   ],
   "source": [
    "#q13\n",
    "cell(1, \"area\")"
   ]
  },
  {
   "cell_type": "code",
   "execution_count": 19,
   "metadata": {},
   "outputs": [
    {
     "output_type": "execute_result",
     "data": {
      "text/plain": [
       "'missing'"
      ]
     },
     "metadata": {},
     "execution_count": 19
    }
   ],
   "source": [
    "#q14\n",
    "cell(3, \"neighborhood\")"
   ]
  },
  {
   "cell_type": "code",
   "execution_count": 20,
   "metadata": {},
   "outputs": [],
   "source": [
    "neighborhood_count = {}\n",
    "for i in range(len(csv_data)):\n",
    "    neighborhood = cell(i, \"neighborhood\")\n",
    "    if neighborhood not in neighborhood_count:\n",
    "        neighborhood_count[neighborhood] = 1\n",
    "    else:\n",
    "        neighborhood_count[neighborhood] += 1"
   ]
  },
  {
   "cell_type": "code",
   "execution_count": 21,
   "metadata": {},
   "outputs": [
    {
     "output_type": "execute_result",
     "data": {
      "text/plain": [
       "{'Kensington': 175,\n",
       " 'missing': 45985,\n",
       " 'Harlem': 2658,\n",
       " 'Allerton': 42,\n",
       " 'Woodrow': 1,\n",
       " 'Belmont': 24,\n",
       " 'Baychester': 7,\n",
       " 'Westerleigh': 2,\n",
       " 'Willowbrook': 1}"
      ]
     },
     "metadata": {},
     "execution_count": 21
    }
   ],
   "source": [
    "#q15\n",
    "neighborhood_count"
   ]
  },
  {
   "cell_type": "code",
   "execution_count": 22,
   "metadata": {},
   "outputs": [
    {
     "output_type": "execute_result",
     "data": {
      "text/plain": [
       "['Kensington', 'missing', 'Harlem', 'missing']"
      ]
     },
     "metadata": {},
     "execution_count": 22
    }
   ],
   "source": [
    "#q16\n",
    "[cell(0, \"neighborhood\"),\n",
    " cell(1, \"neighborhood\"),\n",
    " cell(2, \"neighborhood\"),\n",
    " cell(3, \"neighborhood\")]"
   ]
  },
  {
   "cell_type": "code",
   "execution_count": 23,
   "metadata": {},
   "outputs": [],
   "source": [
    "#q17"
   ]
  }
 ]
}