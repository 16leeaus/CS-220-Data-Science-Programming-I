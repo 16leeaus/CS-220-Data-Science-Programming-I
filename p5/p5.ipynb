{
 "metadata": {
  "language_info": {
   "codemirror_mode": {
    "name": "ipython",
    "version": 3
   },
   "file_extension": ".py",
   "mimetype": "text/x-python",
   "name": "python",
   "nbconvert_exporter": "python",
   "pygments_lexer": "ipython3",
   "version": "3.9.5"
  },
  "orig_nbformat": 4,
  "kernelspec": {
   "name": "python3",
   "display_name": "Python 3.9.5 64-bit (windows store)"
  },
  "interpreter": {
   "hash": "0390282857b0f1d23906851b264b65c5961f2a459d8f279bdc74e540d037d235"
  }
 },
 "nbformat": 4,
 "nbformat_minor": 2,
 "cells": [
  {
   "cell_type": "code",
   "execution_count": 1,
   "metadata": {},
   "outputs": [],
   "source": [
    "# project: p5\n",
    "# submitter: alee88\n",
    "# partner: none\n",
    "# hours: 4"
   ]
  },
  {
   "cell_type": "code",
   "execution_count": 2,
   "metadata": {},
   "outputs": [],
   "source": [
    "from collections import namedtuple\n",
    "import copy\n",
    "import json\n",
    "\n",
    "f = open(\"reddit-python.json\")\n",
    "reddit = json.load(f)"
   ]
  },
  {
   "cell_type": "code",
   "execution_count": 3,
   "metadata": {},
   "outputs": [
    {
     "output_type": "execute_result",
     "data": {
      "text/plain": [
       "27"
      ]
     },
     "metadata": {},
     "execution_count": 3
    }
   ],
   "source": [
    "#q1\n",
    "len(reddit[\"data\"][\"children\"])"
   ]
  },
  {
   "cell_type": "code",
   "execution_count": 4,
   "metadata": {},
   "outputs": [],
   "source": [
    "posts = reddit[\"data\"][\"children\"]\n",
    "#posts"
   ]
  },
  {
   "cell_type": "code",
   "execution_count": 5,
   "metadata": {},
   "outputs": [
    {
     "output_type": "execute_result",
     "data": {
      "text/plain": [
       "{'data': {'all_awardings': [],\n",
       "  'allow_live_comments': False,\n",
       "  'approved_at_utc': None,\n",
       "  'approved_by': None,\n",
       "  'archived': False,\n",
       "  'author': 'wealthyquant',\n",
       "  'author_flair_background_color': None,\n",
       "  'author_flair_css_class': None,\n",
       "  'author_flair_richtext': [],\n",
       "  'author_flair_template_id': None,\n",
       "  'author_flair_text': None,\n",
       "  'author_flair_text_color': None,\n",
       "  'author_flair_type': 'text',\n",
       "  'author_fullname': 't2_7k2dbqqq',\n",
       "  'author_patreon_flair': False,\n",
       "  'author_premium': False,\n",
       "  'awarders': [],\n",
       "  'banned_at_utc': None,\n",
       "  'banned_by': None,\n",
       "  'can_gild': False,\n",
       "  'can_mod_post': False,\n",
       "  'category': None,\n",
       "  'clicked': False,\n",
       "  'content_categories': None,\n",
       "  'contest_mode': False,\n",
       "  'created': 1625434795.0,\n",
       "  'created_utc': 1625405995.0,\n",
       "  'discussion_type': None,\n",
       "  'distinguished': None,\n",
       "  'domain': 'youtu.be',\n",
       "  'downs': 0,\n",
       "  'edited': False,\n",
       "  'gilded': 0,\n",
       "  'gildings': {},\n",
       "  'hidden': False,\n",
       "  'hide_score': False,\n",
       "  'id': 'odknmh',\n",
       "  'is_created_from_ads_ui': False,\n",
       "  'is_crosspostable': False,\n",
       "  'is_meta': False,\n",
       "  'is_original_content': False,\n",
       "  'is_reddit_media_domain': False,\n",
       "  'is_robot_indexable': True,\n",
       "  'is_self': False,\n",
       "  'is_video': False,\n",
       "  'likes': None,\n",
       "  'link_flair_background_color': '#dadada',\n",
       "  'link_flair_css_class': 'tutorial',\n",
       "  'link_flair_richtext': [{'e': 'text', 't': 'Tutorial'}],\n",
       "  'link_flair_template_id': '7987a74c-04d8-11eb-84ca-0e0ac8b5a78f',\n",
       "  'link_flair_text': 'Tutorial',\n",
       "  'link_flair_text_color': 'dark',\n",
       "  'link_flair_type': 'richtext',\n",
       "  'locked': False,\n",
       "  'media': None,\n",
       "  'media_embed': {},\n",
       "  'media_only': False,\n",
       "  'mod_note': None,\n",
       "  'mod_reason_by': None,\n",
       "  'mod_reason_title': None,\n",
       "  'mod_reports': [],\n",
       "  'name': 't3_odknmh',\n",
       "  'no_follow': False,\n",
       "  'num_comments': 1,\n",
       "  'num_crossposts': 0,\n",
       "  'num_reports': None,\n",
       "  'over_18': False,\n",
       "  'parent_whitelist_status': 'all_ads',\n",
       "  'permalink': '/r/Python/comments/odknmh/trading_straddle_system_automation_live/',\n",
       "  'pinned': False,\n",
       "  'post_hint': 'link',\n",
       "  'preview': {'enabled': False,\n",
       "   'images': [{'id': 'd5g65JqA_FA2pbPPkndM2ipvsrqxciSLMtzVM5aAI8s',\n",
       "     'resolutions': [{'height': 60,\n",
       "       'url': 'https://external-preview.redd.it/ewOOuHykbDf5oP6iBRdjer2Xy1Gz4w1lt4LrYa5emCQ.jpg?width=108&amp;crop=smart&amp;auto=webp&amp;s=5df69dfb3400d47254881211869758509dc7f0c1',\n",
       "       'width': 108},\n",
       "      {'height': 121,\n",
       "       'url': 'https://external-preview.redd.it/ewOOuHykbDf5oP6iBRdjer2Xy1Gz4w1lt4LrYa5emCQ.jpg?width=216&amp;crop=smart&amp;auto=webp&amp;s=077d065efcf5ce8696a413f1c6d89f2c83eed932',\n",
       "       'width': 216},\n",
       "      {'height': 180,\n",
       "       'url': 'https://external-preview.redd.it/ewOOuHykbDf5oP6iBRdjer2Xy1Gz4w1lt4LrYa5emCQ.jpg?width=320&amp;crop=smart&amp;auto=webp&amp;s=69d8706819b480ebe9c5e870908ad3afb3a136f1',\n",
       "       'width': 320},\n",
       "      {'height': 360,\n",
       "       'url': 'https://external-preview.redd.it/ewOOuHykbDf5oP6iBRdjer2Xy1Gz4w1lt4LrYa5emCQ.jpg?width=640&amp;crop=smart&amp;auto=webp&amp;s=0f111b04f58d2f4a5dee184c0f8d71f5fb19a838',\n",
       "       'width': 640},\n",
       "      {'height': 540,\n",
       "       'url': 'https://external-preview.redd.it/ewOOuHykbDf5oP6iBRdjer2Xy1Gz4w1lt4LrYa5emCQ.jpg?width=960&amp;crop=smart&amp;auto=webp&amp;s=3e42ba92346e9c7d42468f41bb5fa3aeb79dd493',\n",
       "       'width': 960},\n",
       "      {'height': 607,\n",
       "       'url': 'https://external-preview.redd.it/ewOOuHykbDf5oP6iBRdjer2Xy1Gz4w1lt4LrYa5emCQ.jpg?width=1080&amp;crop=smart&amp;auto=webp&amp;s=3cfff00431f9901834e20880311ec69eafd8fc04',\n",
       "       'width': 1080}],\n",
       "     'source': {'height': 720,\n",
       "      'url': 'https://external-preview.redd.it/ewOOuHykbDf5oP6iBRdjer2Xy1Gz4w1lt4LrYa5emCQ.jpg?auto=webp&amp;s=384259ee2a052144f813adab78dedea679b00633',\n",
       "      'width': 1280},\n",
       "     'variants': {}}]},\n",
       "  'pwls': 6,\n",
       "  'quarantine': False,\n",
       "  'removal_reason': None,\n",
       "  'removed_by': None,\n",
       "  'removed_by_category': None,\n",
       "  'report_reasons': None,\n",
       "  'saved': False,\n",
       "  'score': 15,\n",
       "  'secure_media': None,\n",
       "  'secure_media_embed': {},\n",
       "  'selftext': '',\n",
       "  'selftext_html': None,\n",
       "  'send_replies': True,\n",
       "  'spoiler': False,\n",
       "  'stickied': False,\n",
       "  'subreddit': 'Python',\n",
       "  'subreddit_id': 't5_2qh0y',\n",
       "  'subreddit_name_prefixed': 'r/Python',\n",
       "  'subreddit_subscribers': 827775,\n",
       "  'subreddit_type': 'public',\n",
       "  'suggested_sort': None,\n",
       "  'thumbnail': 'https://b.thumbs.redditmedia.com/0k70HFvWoomR60pL2tufB87Vw6JNyzb8XAqWVhlJXNU.jpg',\n",
       "  'thumbnail_height': 78,\n",
       "  'thumbnail_width': 140,\n",
       "  'title': 'Trading Straddle System Automation Live',\n",
       "  'top_awarded_type': None,\n",
       "  'total_awards_received': 0,\n",
       "  'treatment_tags': [],\n",
       "  'ups': 15,\n",
       "  'upvote_ratio': 0.8,\n",
       "  'url': 'https://youtu.be/l9mhDIfL4Ug',\n",
       "  'url_overridden_by_dest': 'https://youtu.be/l9mhDIfL4Ug',\n",
       "  'user_reports': [],\n",
       "  'view_count': None,\n",
       "  'visited': False,\n",
       "  'whitelist_status': 'all_ads',\n",
       "  'wls': 6},\n",
       " 'kind': 't3'}"
      ]
     },
     "metadata": {},
     "execution_count": 5
    }
   ],
   "source": [
    "#q2\n",
    "reddit.keys()\n",
    "posts[-1]"
   ]
  },
  {
   "cell_type": "code",
   "execution_count": 6,
   "metadata": {},
   "outputs": [
    {
     "output_type": "execute_result",
     "data": {
      "text/plain": [
       "{'data', 'kind'}"
      ]
     },
     "metadata": {},
     "execution_count": 6
    }
   ],
   "source": [
    "#q3\n",
    "keys_children = set()\n",
    "for key in posts[-1]:\n",
    "    keys_children.add(key)\n",
    "keys_children"
   ]
  },
  {
   "cell_type": "code",
   "execution_count": 7,
   "metadata": {},
   "outputs": [
    {
     "output_type": "execute_result",
     "data": {
      "text/plain": [
       "{'all_awardings',\n",
       " 'allow_live_comments',\n",
       " 'approved_at_utc',\n",
       " 'approved_by',\n",
       " 'archived',\n",
       " 'author',\n",
       " 'author_flair_background_color',\n",
       " 'author_flair_css_class',\n",
       " 'author_flair_richtext',\n",
       " 'author_flair_template_id',\n",
       " 'author_flair_text',\n",
       " 'author_flair_text_color',\n",
       " 'author_flair_type',\n",
       " 'author_fullname',\n",
       " 'author_patreon_flair',\n",
       " 'author_premium',\n",
       " 'awarders',\n",
       " 'banned_at_utc',\n",
       " 'banned_by',\n",
       " 'can_gild',\n",
       " 'can_mod_post',\n",
       " 'category',\n",
       " 'clicked',\n",
       " 'content_categories',\n",
       " 'contest_mode',\n",
       " 'created',\n",
       " 'created_utc',\n",
       " 'discussion_type',\n",
       " 'distinguished',\n",
       " 'domain',\n",
       " 'downs',\n",
       " 'edited',\n",
       " 'gilded',\n",
       " 'gildings',\n",
       " 'hidden',\n",
       " 'hide_score',\n",
       " 'id',\n",
       " 'is_created_from_ads_ui',\n",
       " 'is_crosspostable',\n",
       " 'is_meta',\n",
       " 'is_original_content',\n",
       " 'is_reddit_media_domain',\n",
       " 'is_robot_indexable',\n",
       " 'is_self',\n",
       " 'is_video',\n",
       " 'likes',\n",
       " 'link_flair_background_color',\n",
       " 'link_flair_css_class',\n",
       " 'link_flair_richtext',\n",
       " 'link_flair_template_id',\n",
       " 'link_flair_text',\n",
       " 'link_flair_text_color',\n",
       " 'link_flair_type',\n",
       " 'locked',\n",
       " 'media',\n",
       " 'media_embed',\n",
       " 'media_only',\n",
       " 'mod_note',\n",
       " 'mod_reason_by',\n",
       " 'mod_reason_title',\n",
       " 'mod_reports',\n",
       " 'name',\n",
       " 'no_follow',\n",
       " 'num_comments',\n",
       " 'num_crossposts',\n",
       " 'num_reports',\n",
       " 'over_18',\n",
       " 'parent_whitelist_status',\n",
       " 'permalink',\n",
       " 'pinned',\n",
       " 'post_hint',\n",
       " 'preview',\n",
       " 'pwls',\n",
       " 'quarantine',\n",
       " 'removal_reason',\n",
       " 'removed_by',\n",
       " 'removed_by_category',\n",
       " 'report_reasons',\n",
       " 'saved',\n",
       " 'score',\n",
       " 'secure_media',\n",
       " 'secure_media_embed',\n",
       " 'selftext',\n",
       " 'selftext_html',\n",
       " 'send_replies',\n",
       " 'spoiler',\n",
       " 'stickied',\n",
       " 'subreddit',\n",
       " 'subreddit_id',\n",
       " 'subreddit_name_prefixed',\n",
       " 'subreddit_subscribers',\n",
       " 'subreddit_type',\n",
       " 'suggested_sort',\n",
       " 'thumbnail',\n",
       " 'thumbnail_height',\n",
       " 'thumbnail_width',\n",
       " 'title',\n",
       " 'top_awarded_type',\n",
       " 'total_awards_received',\n",
       " 'treatment_tags',\n",
       " 'ups',\n",
       " 'upvote_ratio',\n",
       " 'url',\n",
       " 'url_overridden_by_dest',\n",
       " 'user_reports',\n",
       " 'view_count',\n",
       " 'visited',\n",
       " 'whitelist_status',\n",
       " 'wls'}"
      ]
     },
     "metadata": {},
     "execution_count": 7
    }
   ],
   "source": [
    "#q4\n",
    "keys_data = set()\n",
    "for key in posts[-1][\"data\"]:\n",
    "    keys_data.add(key)\n",
    "\n",
    "keys_data"
   ]
  },
  {
   "cell_type": "code",
   "execution_count": 8,
   "metadata": {},
   "outputs": [],
   "source": [
    "def column(posts, field):\n",
    "    \"\"\"extract the given field from each dict in posts, and return a list of all extracted values\"\"\"\n",
    "    dict_list = []\n",
    "    for dictionary in posts:\n",
    "        value = dictionary[\"data\"][field]\n",
    "        dict_list.append(value)\n",
    "    return dict_list\n",
    "\n",
    "def search(term, clone=False):\n",
    "    \"\"\"return a list of post dicts that contain 'term' in the title (case insensitive).\n",
    "    When clone is True, the list contains deep copies of the original post dicts.\"\"\"\n",
    "    global posts\n",
    "    title_list = []\n",
    "\n",
    "    for dictionary in posts:\n",
    "        title = dictionary[\"data\"][\"title\"].lower()\n",
    "        term = term.lower()\n",
    "        if term in title:\n",
    "            if clone:\n",
    "                title_list.append(copy.deepcopy(dictionary))\n",
    "            else:\n",
    "                title_list.append(dictionary)\n",
    "    return title_list\n",
    "\n",
    "def total_up(posts):\n",
    "    \"\"\"Return sum of all the 'ups' for the dicts in the list of posts.\"\"\"\n",
    "    sum_ups = 0\n",
    "    for x in column(posts, \"ups\"):\n",
    "        sum_ups += x\n",
    "    return sum_ups\n",
    "\n",
    "def upvote(posts):\n",
    "    \"\"\"Increase the 'ups' value by 1 for every dict in the posts list\"\"\"\n",
    "    x = column(posts, \"ups\")\n",
    "    for i in range(len(posts)):\n",
    "        posts[i][\"data\"][\"ups\"] = x[i] + 1\n",
    "    return posts"
   ]
  },
  {
   "cell_type": "code",
   "execution_count": 9,
   "metadata": {},
   "outputs": [
    {
     "output_type": "execute_result",
     "data": {
      "text/plain": [
       "[\"Sunday Daily Thread: What's everyone working on this week?\",\n",
       " 'Monday Daily Thread: Project ideas!',\n",
       " 'Lorenz attractor - butterfly shape plot with Matplotlib 3D explained in this video',\n",
       " 'Hikaru 0.6b released, now supporting both the 1.16 and 1.17 K8s Python clients.',\n",
       " 'Some Experiments with GitHub Copilot',\n",
       " 'Python web frameworks rank based on different sources ranks as downloads, pypi dependencies count, SO questions count, github stars, last month activity and so one.',\n",
       " 'Why is python depency management such a mess?',\n",
       " 'Training a urban sound classifier with PyTorch and TorchAudio',\n",
       " 'Training a urban sound classifier with PyTorch and TorchAudio',\n",
       " \"Pydantic and python's builtin libs\",\n",
       " 'Python Best Practices for a New Project in 2021',\n",
       " 'How can I make a server accessible from anywhere (any network)?',\n",
       " 'Contribution to Hazelcast',\n",
       " \"New search engine made with Python that's anonymous and has no ads or tracking. It tries to fight spam, and gives you control of how you view search results. You can search and read content anonymously with a proxied reader view. The alpha is live and free for anyone to use at lazyweb.ai\",\n",
       " 'Free Course – Create GUIs for Python Apps with Tkinter',\n",
       " 'Tic-Tac-Toe made with Pygame and AI with Gym and StableBaselines3',\n",
       " 'Startup Task Maker Project',\n",
       " 'How variables works in Python | Explained with animations',\n",
       " 'I created an open-source tool for lazy programmers to snap Vim and one other app to the sides of their screen (MacOS-only, at the moment).',\n",
       " 'How to run Python in VSCode (found this YT video useful for quick setup)',\n",
       " 'Python or Node.js, Which is Better to Learn',\n",
       " \"Is there a python beginner's tutorial specifically aimed at visual basic programmers ?\",\n",
       " 'My very first code: Guessing game',\n",
       " 'What do you think about this Music Player I built?',\n",
       " 'How to plot with Python: 8 popular graphs made with pandas, matplotlib, seaborn, and plotly.express',\n",
       " 'Check this out!!!',\n",
       " 'Trading Straddle System Automation Live']"
      ]
     },
     "metadata": {},
     "execution_count": 9
    }
   ],
   "source": [
    "#q5\n",
    "column(posts, \"title\")"
   ]
  },
  {
   "cell_type": "code",
   "execution_count": 10,
   "metadata": {},
   "outputs": [
    {
     "output_type": "execute_result",
     "data": {
      "text/plain": [
       "5"
      ]
     },
     "metadata": {},
     "execution_count": 10
    }
   ],
   "source": [
    "#q6\n",
    "len(search(\"how\", False))"
   ]
  },
  {
   "cell_type": "code",
   "execution_count": 11,
   "metadata": {},
   "outputs": [
    {
     "output_type": "execute_result",
     "data": {
      "text/plain": [
       "['https://youtu.be/Na9L2VSvo78',\n",
       " 'https://www.reddit.com/r/Python/comments/odpc5t/how_to_plot_with_python_8_popular_graphs_made/']"
      ]
     },
     "metadata": {},
     "execution_count": 11
    }
   ],
   "source": [
    "#q7\n",
    "column(search(\"plot\", False), \"url\")"
   ]
  },
  {
   "cell_type": "code",
   "execution_count": 12,
   "metadata": {},
   "outputs": [
    {
     "output_type": "execute_result",
     "data": {
      "text/plain": [
       "440"
      ]
     },
     "metadata": {},
     "execution_count": 12
    }
   ],
   "source": [
    "#q8\n",
    "total_up(posts[:3])"
   ]
  },
  {
   "cell_type": "code",
   "execution_count": 13,
   "metadata": {},
   "outputs": [
    {
     "output_type": "execute_result",
     "data": {
      "text/plain": [
       "121.0"
      ]
     },
     "metadata": {},
     "execution_count": 13
    }
   ],
   "source": [
    "#q9\n",
    "total_up(search(\"?\", False)) / len(search(\"?\", False))"
   ]
  },
  {
   "cell_type": "code",
   "execution_count": 14,
   "metadata": {},
   "outputs": [
    {
     "output_type": "execute_result",
     "data": {
      "text/plain": [
       "[{'data': {'all_awardings': [],\n",
       "   'allow_live_comments': False,\n",
       "   'approved_at_utc': None,\n",
       "   'approved_by': None,\n",
       "   'archived': False,\n",
       "   'author': 'Im__Joseph',\n",
       "   'author_flair_background_color': '#7289da',\n",
       "   'author_flair_css_class': None,\n",
       "   'author_flair_richtext': [{'a': ':python_discord:',\n",
       "     'e': 'emoji',\n",
       "     'u': 'https://emoji.redditmedia.com/x0lrxnhaazg51_t5_2qh0y/python_discord'},\n",
       "    {'e': 'text', 't': ' Python Discord Staff'}],\n",
       "   'author_flair_template_id': '294da566-de3a-11ea-b735-0e5977e6a00f',\n",
       "   'author_flair_text': ':python_discord: Python Discord Staff',\n",
       "   'author_flair_text_color': 'light',\n",
       "   'author_flair_type': 'richtext',\n",
       "   'author_fullname': 't2_145f96',\n",
       "   'author_patreon_flair': False,\n",
       "   'author_premium': False,\n",
       "   'awarders': [],\n",
       "   'banned_at_utc': None,\n",
       "   'banned_by': None,\n",
       "   'can_gild': False,\n",
       "   'can_mod_post': False,\n",
       "   'category': None,\n",
       "   'clicked': False,\n",
       "   'content_categories': None,\n",
       "   'contest_mode': False,\n",
       "   'created': 1625385616.0,\n",
       "   'created_utc': 1625356816.0,\n",
       "   'discussion_type': None,\n",
       "   'distinguished': 'moderator',\n",
       "   'domain': 'self.Python',\n",
       "   'downs': 0,\n",
       "   'edited': False,\n",
       "   'gilded': 0,\n",
       "   'gildings': {},\n",
       "   'hidden': False,\n",
       "   'hide_score': False,\n",
       "   'id': 'od9a3s',\n",
       "   'is_created_from_ads_ui': False,\n",
       "   'is_crosspostable': False,\n",
       "   'is_meta': False,\n",
       "   'is_original_content': False,\n",
       "   'is_reddit_media_domain': False,\n",
       "   'is_robot_indexable': True,\n",
       "   'is_self': True,\n",
       "   'is_video': False,\n",
       "   'likes': None,\n",
       "   'link_flair_background_color': '#00a6a5',\n",
       "   'link_flair_css_class': 'daily-thread',\n",
       "   'link_flair_richtext': [{'e': 'text', 't': 'Daily Thread'}],\n",
       "   'link_flair_template_id': '6c024934-de3f-11ea-a05a-0ea86b2be9a1',\n",
       "   'link_flair_text': 'Daily Thread',\n",
       "   'link_flair_text_color': 'light',\n",
       "   'link_flair_type': 'richtext',\n",
       "   'locked': False,\n",
       "   'media': None,\n",
       "   'media_embed': {},\n",
       "   'media_only': False,\n",
       "   'mod_note': None,\n",
       "   'mod_reason_by': None,\n",
       "   'mod_reason_title': None,\n",
       "   'mod_reports': [],\n",
       "   'name': 't3_od9a3s',\n",
       "   'no_follow': False,\n",
       "   'num_comments': 20,\n",
       "   'num_crossposts': 0,\n",
       "   'num_reports': None,\n",
       "   'over_18': False,\n",
       "   'parent_whitelist_status': 'all_ads',\n",
       "   'permalink': '/r/Python/comments/od9a3s/sunday_daily_thread_whats_everyone_working_on/',\n",
       "   'pinned': False,\n",
       "   'pwls': 6,\n",
       "   'quarantine': False,\n",
       "   'removal_reason': None,\n",
       "   'removed_by': None,\n",
       "   'removed_by_category': None,\n",
       "   'report_reasons': None,\n",
       "   'saved': False,\n",
       "   'score': 123,\n",
       "   'secure_media': None,\n",
       "   'secure_media_embed': {},\n",
       "   'selftext': \"Tell /r/python what you're working on this week! You can be bragging, grousing, sharing your passion, or explaining your pain. Talk about your current project or your pet project; whatever you want to share.\",\n",
       "   'selftext_html': '&lt;!-- SC_OFF --&gt;&lt;div class=\"md\"&gt;&lt;p&gt;Tell &lt;a href=\"/r/python\"&gt;/r/python&lt;/a&gt; what you&amp;#39;re working on this week! You can be bragging, grousing, sharing your passion, or explaining your pain. Talk about your current project or your pet project; whatever you want to share.&lt;/p&gt;\\n&lt;/div&gt;&lt;!-- SC_ON --&gt;',\n",
       "   'send_replies': False,\n",
       "   'spoiler': False,\n",
       "   'stickied': True,\n",
       "   'subreddit': 'Python',\n",
       "   'subreddit_id': 't5_2qh0y',\n",
       "   'subreddit_name_prefixed': 'r/Python',\n",
       "   'subreddit_subscribers': 827775,\n",
       "   'subreddit_type': 'public',\n",
       "   'suggested_sort': None,\n",
       "   'thumbnail': 'self',\n",
       "   'thumbnail_height': None,\n",
       "   'thumbnail_width': None,\n",
       "   'title': \"Sunday Daily Thread: What's everyone working on this week?\",\n",
       "   'top_awarded_type': None,\n",
       "   'total_awards_received': 0,\n",
       "   'treatment_tags': [],\n",
       "   'ups': 124,\n",
       "   'upvote_ratio': 0.99,\n",
       "   'url': 'https://www.reddit.com/r/Python/comments/od9a3s/sunday_daily_thread_whats_everyone_working_on/',\n",
       "   'user_reports': [],\n",
       "   'view_count': None,\n",
       "   'visited': False,\n",
       "   'whitelist_status': 'all_ads',\n",
       "   'wls': 6},\n",
       "  'kind': 't3'},\n",
       " {'data': {'all_awardings': [{'award_sub_type': 'GLOBAL',\n",
       "     'award_type': 'global',\n",
       "     'awardings_required_to_grant_benefits': None,\n",
       "     'coin_price': 125,\n",
       "     'coin_reward': 0,\n",
       "     'count': 1,\n",
       "     'days_of_drip_extension': 0,\n",
       "     'days_of_premium': 0,\n",
       "     'description': 'When you come across a feel-good thing.',\n",
       "     'end_date': None,\n",
       "     'giver_coin_reward': None,\n",
       "     'icon_format': None,\n",
       "     'icon_height': 2048,\n",
       "     'icon_url': 'https://i.redd.it/award_images/t5_22cerq/5izbv4fn0md41_Wholesome.png',\n",
       "     'icon_width': 2048,\n",
       "     'id': 'award_5f123e3d-4f48-42f4-9c11-e98b566d5897',\n",
       "     'is_enabled': True,\n",
       "     'is_new': False,\n",
       "     'name': 'Wholesome',\n",
       "     'penny_donate': None,\n",
       "     'penny_price': None,\n",
       "     'resized_icons': [{'height': 16,\n",
       "       'url': 'https://preview.redd.it/award_images/t5_22cerq/5izbv4fn0md41_Wholesome.png?width=16&amp;height=16&amp;auto=webp&amp;s=92932f465d58e4c16b12b6eac4ca07d27e3d11c0',\n",
       "       'width': 16},\n",
       "      {'height': 32,\n",
       "       'url': 'https://preview.redd.it/award_images/t5_22cerq/5izbv4fn0md41_Wholesome.png?width=32&amp;height=32&amp;auto=webp&amp;s=d11484a208d68a318bf9d4fcf371171a1cb6a7ef',\n",
       "       'width': 32},\n",
       "      {'height': 48,\n",
       "       'url': 'https://preview.redd.it/award_images/t5_22cerq/5izbv4fn0md41_Wholesome.png?width=48&amp;height=48&amp;auto=webp&amp;s=febdf28b6f39f7da7eb1365325b85e0bb49a9f63',\n",
       "       'width': 48},\n",
       "      {'height': 64,\n",
       "       'url': 'https://preview.redd.it/award_images/t5_22cerq/5izbv4fn0md41_Wholesome.png?width=64&amp;height=64&amp;auto=webp&amp;s=b4406a2d88bf86fa3dc8a45aacf7e0c7bdccc4fb',\n",
       "       'width': 64},\n",
       "      {'height': 128,\n",
       "       'url': 'https://preview.redd.it/award_images/t5_22cerq/5izbv4fn0md41_Wholesome.png?width=128&amp;height=128&amp;auto=webp&amp;s=19555b13e3e196b62eeb9160d1ac1d1b372dcb0b',\n",
       "       'width': 128}],\n",
       "     'resized_static_icons': [{'height': 16,\n",
       "       'url': 'https://preview.redd.it/award_images/t5_22cerq/5izbv4fn0md41_Wholesome.png?width=16&amp;height=16&amp;auto=webp&amp;s=92932f465d58e4c16b12b6eac4ca07d27e3d11c0',\n",
       "       'width': 16},\n",
       "      {'height': 32,\n",
       "       'url': 'https://preview.redd.it/award_images/t5_22cerq/5izbv4fn0md41_Wholesome.png?width=32&amp;height=32&amp;auto=webp&amp;s=d11484a208d68a318bf9d4fcf371171a1cb6a7ef',\n",
       "       'width': 32},\n",
       "      {'height': 48,\n",
       "       'url': 'https://preview.redd.it/award_images/t5_22cerq/5izbv4fn0md41_Wholesome.png?width=48&amp;height=48&amp;auto=webp&amp;s=febdf28b6f39f7da7eb1365325b85e0bb49a9f63',\n",
       "       'width': 48},\n",
       "      {'height': 64,\n",
       "       'url': 'https://preview.redd.it/award_images/t5_22cerq/5izbv4fn0md41_Wholesome.png?width=64&amp;height=64&amp;auto=webp&amp;s=b4406a2d88bf86fa3dc8a45aacf7e0c7bdccc4fb',\n",
       "       'width': 64},\n",
       "      {'height': 128,\n",
       "       'url': 'https://preview.redd.it/award_images/t5_22cerq/5izbv4fn0md41_Wholesome.png?width=128&amp;height=128&amp;auto=webp&amp;s=19555b13e3e196b62eeb9160d1ac1d1b372dcb0b',\n",
       "       'width': 128}],\n",
       "     'start_date': None,\n",
       "     'static_icon_height': 2048,\n",
       "     'static_icon_url': 'https://i.redd.it/award_images/t5_22cerq/5izbv4fn0md41_Wholesome.png',\n",
       "     'static_icon_width': 2048,\n",
       "     'subreddit_coin_reward': 0,\n",
       "     'subreddit_id': None,\n",
       "     'tiers_by_required_awardings': None}],\n",
       "   'allow_live_comments': False,\n",
       "   'approved_at_utc': None,\n",
       "   'approved_by': None,\n",
       "   'archived': False,\n",
       "   'author': 'Im__Joseph',\n",
       "   'author_flair_background_color': '#7289da',\n",
       "   'author_flair_css_class': None,\n",
       "   'author_flair_richtext': [{'a': ':python_discord:',\n",
       "     'e': 'emoji',\n",
       "     'u': 'https://emoji.redditmedia.com/x0lrxnhaazg51_t5_2qh0y/python_discord'},\n",
       "    {'e': 'text', 't': ' Python Discord Staff'}],\n",
       "   'author_flair_template_id': '294da566-de3a-11ea-b735-0e5977e6a00f',\n",
       "   'author_flair_text': ':python_discord: Python Discord Staff',\n",
       "   'author_flair_text_color': 'light',\n",
       "   'author_flair_type': 'richtext',\n",
       "   'author_fullname': 't2_145f96',\n",
       "   'author_patreon_flair': False,\n",
       "   'author_premium': False,\n",
       "   'awarders': [],\n",
       "   'banned_at_utc': None,\n",
       "   'banned_by': None,\n",
       "   'can_gild': False,\n",
       "   'can_mod_post': False,\n",
       "   'category': None,\n",
       "   'clicked': False,\n",
       "   'content_categories': None,\n",
       "   'contest_mode': False,\n",
       "   'created': 1625472013.0,\n",
       "   'created_utc': 1625443213.0,\n",
       "   'discussion_type': None,\n",
       "   'distinguished': 'moderator',\n",
       "   'domain': 'self.Python',\n",
       "   'downs': 0,\n",
       "   'edited': False,\n",
       "   'gilded': 0,\n",
       "   'gildings': {},\n",
       "   'hidden': False,\n",
       "   'hide_score': False,\n",
       "   'id': 'odvyar',\n",
       "   'is_created_from_ads_ui': False,\n",
       "   'is_crosspostable': False,\n",
       "   'is_meta': False,\n",
       "   'is_original_content': False,\n",
       "   'is_reddit_media_domain': False,\n",
       "   'is_robot_indexable': True,\n",
       "   'is_self': True,\n",
       "   'is_video': False,\n",
       "   'likes': None,\n",
       "   'link_flair_background_color': '#00a6a5',\n",
       "   'link_flair_css_class': 'daily-thread',\n",
       "   'link_flair_richtext': [{'e': 'text', 't': 'Daily Thread'}],\n",
       "   'link_flair_template_id': '6c024934-de3f-11ea-a05a-0ea86b2be9a1',\n",
       "   'link_flair_text': 'Daily Thread',\n",
       "   'link_flair_text_color': 'light',\n",
       "   'link_flair_type': 'richtext',\n",
       "   'locked': False,\n",
       "   'media': None,\n",
       "   'media_embed': {},\n",
       "   'media_only': False,\n",
       "   'mod_note': None,\n",
       "   'mod_reason_by': None,\n",
       "   'mod_reason_title': None,\n",
       "   'mod_reports': [],\n",
       "   'name': 't3_odvyar',\n",
       "   'no_follow': False,\n",
       "   'num_comments': 1,\n",
       "   'num_crossposts': 0,\n",
       "   'num_reports': None,\n",
       "   'over_18': False,\n",
       "   'parent_whitelist_status': 'all_ads',\n",
       "   'permalink': '/r/Python/comments/odvyar/monday_daily_thread_project_ideas/',\n",
       "   'pinned': False,\n",
       "   'pwls': 6,\n",
       "   'quarantine': False,\n",
       "   'removal_reason': None,\n",
       "   'removed_by': None,\n",
       "   'removed_by_category': None,\n",
       "   'report_reasons': None,\n",
       "   'saved': False,\n",
       "   'score': 158,\n",
       "   'secure_media': None,\n",
       "   'secure_media_embed': {},\n",
       "   'selftext': 'Comment any project ideas beginner or advanced in this thread for others to give a try! If you complete one make sure to reply to the comment with how you found it and attach some source code!',\n",
       "   'selftext_html': '&lt;!-- SC_OFF --&gt;&lt;div class=\"md\"&gt;&lt;p&gt;Comment any project ideas beginner or advanced in this thread for others to give a try! If you complete one make sure to reply to the comment with how you found it and attach some source code!&lt;/p&gt;\\n&lt;/div&gt;&lt;!-- SC_ON --&gt;',\n",
       "   'send_replies': False,\n",
       "   'spoiler': False,\n",
       "   'stickied': True,\n",
       "   'subreddit': 'Python',\n",
       "   'subreddit_id': 't5_2qh0y',\n",
       "   'subreddit_name_prefixed': 'r/Python',\n",
       "   'subreddit_subscribers': 827775,\n",
       "   'subreddit_type': 'public',\n",
       "   'suggested_sort': None,\n",
       "   'thumbnail': 'self',\n",
       "   'thumbnail_height': None,\n",
       "   'thumbnail_width': None,\n",
       "   'title': 'Monday Daily Thread: Project ideas!',\n",
       "   'top_awarded_type': None,\n",
       "   'total_awards_received': 1,\n",
       "   'treatment_tags': [],\n",
       "   'ups': 159,\n",
       "   'upvote_ratio': 1.0,\n",
       "   'url': 'https://www.reddit.com/r/Python/comments/odvyar/monday_daily_thread_project_ideas/',\n",
       "   'user_reports': [],\n",
       "   'view_count': None,\n",
       "   'visited': False,\n",
       "   'whitelist_status': 'all_ads',\n",
       "   'wls': 6},\n",
       "  'kind': 't3'}]"
      ]
     },
     "metadata": {},
     "execution_count": 14
    }
   ],
   "source": [
    "upvote(search(\"plot\"))\n",
    "upvote(search(\"daily\", clone=True))"
   ]
  },
  {
   "cell_type": "code",
   "execution_count": 15,
   "metadata": {},
   "outputs": [
    {
     "output_type": "execute_result",
     "data": {
      "text/plain": [
       "441"
      ]
     },
     "metadata": {},
     "execution_count": 15
    }
   ],
   "source": [
    "#q10\n",
    "total_up(posts[:3])"
   ]
  },
  {
   "cell_type": "code",
   "execution_count": 16,
   "metadata": {},
   "outputs": [],
   "source": [
    "Post = namedtuple(\"Post\", [\"title\", \"author\", \"ups\", \"downs\", \"interactions\"])\n",
    "\n",
    "def postify(collection):\n",
    "    if type(collection) == dict:\n",
    "        title = collection[\"data\"][\"title\"]\n",
    "        author = collection[\"data\"][\"author\"]\n",
    "        ups = collection[\"data\"][\"ups\"]\n",
    "        downs = collection[\"data\"][\"downs\"]\n",
    "\n",
    "        interactions = collection[\"data\"][\"num_comments\"] + ups + downs\n",
    "        return Post(title, author, ups, downs, interactions)\n",
    "    \n",
    "    else:\n",
    "        post_list = []\n",
    "        for i in collection:\n",
    "            title = i[\"data\"][\"title\"]\n",
    "            author = i[\"data\"][\"author\"]\n",
    "            ups = i[\"data\"][\"ups\"]\n",
    "            downs = i[\"data\"][\"downs\"]\n",
    "\n",
    "            interactions = i[\"data\"][\"num_comments\"] + ups + downs\n",
    "            post_list.append(Post(title, author, ups, downs, interactions))\n",
    "    return post_list"
   ]
  },
  {
   "cell_type": "code",
   "execution_count": 17,
   "metadata": {},
   "outputs": [
    {
     "output_type": "execute_result",
     "data": {
      "text/plain": [
       "'Post'"
      ]
     },
     "metadata": {},
     "execution_count": 17
    }
   ],
   "source": [
    "#q11\n",
    "Post.__name__"
   ]
  },
  {
   "cell_type": "code",
   "execution_count": 18,
   "metadata": {},
   "outputs": [
    {
     "output_type": "execute_result",
     "data": {
      "text/plain": [
       "Post(title='What do you think about this Music Player I built?', author='nodrama_plz', ups=15, downs=0, interactions=21)"
      ]
     },
     "metadata": {},
     "execution_count": 18
    }
   ],
   "source": [
    "#q12\n",
    "postify({\n",
    "    'data': {'title': 'What do you think about this Music Player I built?',\n",
    "    'author': 'nodrama_plz',\n",
    "    'is_video': False,\n",
    "    'ups': 15,\n",
    "    'downs': 0,\n",
    "    'num_comments': 6,\n",
    "    'url': 'https://www.reddit.com/r/Python/comments/odnjm2/what_do_you_think_about_this_music_player_i_built/',\n",
    "    'mod_reports': []}\n",
    "})"
   ]
  },
  {
   "cell_type": "code",
   "execution_count": 19,
   "metadata": {},
   "outputs": [
    {
     "output_type": "execute_result",
     "data": {
      "text/plain": [
       "Post(title='My very first code: Guessing game', author='Babunator', ups=1, downs=0, interactions=10)"
      ]
     },
     "metadata": {},
     "execution_count": 19
    }
   ],
   "source": [
    "#q13\n",
    "postify(posts[-5])"
   ]
  },
  {
   "cell_type": "code",
   "execution_count": 20,
   "metadata": {},
   "outputs": [
    {
     "output_type": "execute_result",
     "data": {
      "text/plain": [
       "[Post(title='Startup Task Maker Project', author='imrolii', ups=1, downs=0, interactions=1),\n",
       " Post(title='How variables works in Python | Explained with animations', author='Bulk-Being', ups=93, downs=0, interactions=105),\n",
       " Post(title='I created an open-source tool for lazy programmers to snap Vim and one other app to the sides of their screen (MacOS-only, at the moment).', author='vladusatii', ups=1, downs=0, interactions=1),\n",
       " Post(title='How to run Python in VSCode (found this YT video useful for quick setup)', author='artgraphics', ups=0, downs=0, interactions=1),\n",
       " Post(title='Python or Node.js, Which is Better to Learn', author='salmafaizallah1', ups=60, downs=0, interactions=71)]"
      ]
     },
     "metadata": {},
     "execution_count": 20
    }
   ],
   "source": [
    "#q14\n",
    "postify(posts[16:21])"
   ]
  },
  {
   "cell_type": "code",
   "execution_count": 21,
   "metadata": {},
   "outputs": [],
   "source": [
    "def num_dicts(arg):\n",
    "    count = 0\n",
    "\n",
    "    if type(arg) == dict:\n",
    "        count += 1\n",
    "        for i in arg:\n",
    "            if type(arg[i]) == dict:\n",
    "                count += num_dicts(arg[i])\n",
    "            elif type(arg[i]) == list:\n",
    "                count += num_dicts(arg[i])\n",
    "    else:\n",
    "        if type(arg) == list:\n",
    "            for i in range(len(arg)):\n",
    "                if type(arg[i]) == dict:\n",
    "                    count += num_dicts(arg[i])\n",
    "                elif type(arg[i]) == list:\n",
    "                    count += num_dicts(arg[i])\n",
    "    return count"
   ]
  },
  {
   "cell_type": "code",
   "execution_count": 22,
   "metadata": {},
   "outputs": [
    {
     "output_type": "execute_result",
     "data": {
      "text/plain": [
       "471"
      ]
     },
     "metadata": {},
     "execution_count": 22
    }
   ],
   "source": [
    "#q15\n",
    "num_dicts(reddit)"
   ]
  },
  {
   "cell_type": "code",
   "execution_count": 23,
   "metadata": {},
   "outputs": [
    {
     "output_type": "execute_result",
     "data": {
      "text/plain": [
       "{'Im__Joseph': 281,\n",
       " 'SkillupGenie': 160,\n",
       " 'hoover': 214,\n",
       " 'slayer1299': 222,\n",
       " 'tbicr': 148,\n",
       " 'TheJumboman': 463,\n",
       " 'diabulusInMusica': 323,\n",
       " 'gbrennon': 166,\n",
       " 'fshahriar': 245,\n",
       " 'Mx_Mlr': 4,\n",
       " 'burakcelebi': 22,\n",
       " 'lazy-jem': 1393,\n",
       " 'knowledgeseekerLS': 29,\n",
       " 'francofgp': 1,\n",
       " 'imrolii': 1,\n",
       " 'Bulk-Being': 93,\n",
       " 'vladusatii': 1,\n",
       " 'artgraphics': 0,\n",
       " 'salmafaizallah1': 60,\n",
       " 'hazardousmeme': 0,\n",
       " 'Babunator': 1,\n",
       " 'nodrama_plz': 15,\n",
       " 'dcastm': 11,\n",
       " 'some_trombo': 13,\n",
       " 'wealthyquant': 15}"
      ]
     },
     "metadata": {},
     "execution_count": 23
    }
   ],
   "source": [
    "#q16\n",
    "author_upvotes = {}\n",
    "for post in posts:\n",
    "    curr_post = postify(post)\n",
    "    author = curr_post.author\n",
    "    upvotes = curr_post.ups\n",
    "    if author not in author_upvotes:\n",
    "        author_upvotes[author] = upvotes\n",
    "    else:\n",
    "        author_upvotes[author] += upvotes\n",
    "\n",
    "author_upvotes"
   ]
  },
  {
   "cell_type": "code",
   "execution_count": 24,
   "metadata": {},
   "outputs": [],
   "source": [
    "def downvote_tuple(Post):\n",
    "    p = Post\n",
    "    downs_new = p.downs\n",
    "    interactions_new = p.interactions\n",
    "    interactions_new += 1\n",
    "    downs_new += 1\n",
    "\n",
    "    return p._replace(downs = downs_new, interactions = interactions_new)\n",
    "\n",
    "version1 = postify(posts[0])\n",
    "version2 = downvote_tuple(version1)"
   ]
  },
  {
   "cell_type": "code",
   "execution_count": 25,
   "metadata": {},
   "outputs": [
    {
     "output_type": "execute_result",
     "data": {
      "text/plain": [
       "Post(title=\"Sunday Daily Thread: What's everyone working on this week?\", author='Im__Joseph', ups=123, downs=0, interactions=143)"
      ]
     },
     "metadata": {},
     "execution_count": 25
    }
   ],
   "source": [
    "#q17\n",
    "version1"
   ]
  },
  {
   "cell_type": "code",
   "execution_count": 26,
   "metadata": {},
   "outputs": [
    {
     "output_type": "execute_result",
     "data": {
      "text/plain": [
       "Post(title=\"Sunday Daily Thread: What's everyone working on this week?\", author='Im__Joseph', ups=123, downs=1, interactions=144)"
      ]
     },
     "metadata": {},
     "execution_count": 26
    }
   ],
   "source": [
    "#q18\n",
    "version2"
   ]
  },
  {
   "cell_type": "code",
   "execution_count": 27,
   "metadata": {},
   "outputs": [
    {
     "output_type": "execute_result",
     "data": {
      "text/plain": [
       "[Post(title=\"New search engine made with Python that's anonymous and has no ads or tracking. It tries to fight spam, and gives you control of how you view search results. You can search and read content anonymously with a proxied reader view. The alpha is live and free for anyone to use at lazyweb.ai\", author='lazy-jem', ups=1393, downs=0, interactions=1590),\n",
       " Post(title='Why is python depency management such a mess?', author='TheJumboman', ups=463, downs=0, interactions=605),\n",
       " Post(title='Python Best Practices for a New Project in 2021', author='fshahriar', ups=245, downs=0, interactions=276)]"
      ]
     },
     "metadata": {},
     "execution_count": 27
    }
   ],
   "source": [
    "#q19\n",
    "def sort_interactions(post):\n",
    "    ups = post.ups\n",
    "    downs = post.downs\n",
    "\n",
    "    return ups + downs\n",
    "\n",
    "interactions = [postify(post) for post in posts]\n",
    "sorted(interactions, reverse = True, key = sort_interactions)[:3]\n",
    "\n"
   ]
  },
  {
   "cell_type": "code",
   "execution_count": 28,
   "metadata": {},
   "outputs": [
    {
     "output_type": "execute_result",
     "data": {
      "text/plain": [
       "[Post(title='Check this out!!!', author='some_trombo', ups=13, downs=0, interactions=13),\n",
       " Post(title='Contribution to Hazelcast', author='burakcelebi', ups=22, downs=0, interactions=23),\n",
       " Post(title='Startup Task Maker Project', author='imrolii', ups=1, downs=0, interactions=1),\n",
       " Post(title='My very first code: Guessing game', author='Babunator', ups=1, downs=0, interactions=10)]"
      ]
     },
     "metadata": {},
     "execution_count": 28
    }
   ],
   "source": [
    "#q20\n",
    "def sort_titles(post):\n",
    "    return len(post.title)\n",
    "titles = [postify(post) for post in posts]\n",
    "sorted(titles, key = sort_titles)[:4]"
   ]
  }
 ]
}