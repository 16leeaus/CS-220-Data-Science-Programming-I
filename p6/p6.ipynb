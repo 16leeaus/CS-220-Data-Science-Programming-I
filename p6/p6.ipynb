{
    "cells": [
        {
            "cell_type": "code",
            "execution_count": 1,
            "source": [
                "import os"
            ],
            "outputs": [],
            "metadata": {}
        },
        {
            "cell_type": "code",
            "execution_count": 2,
            "source": [
                "#q1\r\n",
                "set(os.listdir())"
            ],
            "outputs": [
                {
                    "output_type": "execute_result",
                    "data": {
                        "text/plain": [
                            "{'$Recycle.Bin',\n",
                            " '$WINDOWS.~BT',\n",
                            " '$WinREAgent',\n",
                            " '$Windows.~WS',\n",
                            " 'CosairDram.txt',\n",
                            " 'Documents and Settings',\n",
                            " 'DumpStack.log',\n",
                            " 'DumpStack.log.tmp',\n",
                            " 'EVE',\n",
                            " 'EthMiner',\n",
                            " 'Intel',\n",
                            " 'OneDriveTemp',\n",
                            " 'PerfLogs',\n",
                            " 'Program Files',\n",
                            " 'Program Files (x86)',\n",
                            " 'ProgramData',\n",
                            " 'Recovery',\n",
                            " 'Riot Games',\n",
                            " 'System Volume Information',\n",
                            " 'Users',\n",
                            " 'Windows',\n",
                            " 'Workspace',\n",
                            " 'blender-2.79-windows64',\n",
                            " 'ethminer-0.18.0.zip',\n",
                            " 'hiberfil.sys',\n",
                            " 'minerstat-windows',\n",
                            " 'pagefile.sys',\n",
                            " 'swapfile.sys',\n",
                            " 'temp'}"
                        ]
                    },
                    "metadata": {},
                    "execution_count": 2
                }
            ],
            "metadata": {}
        },
        {
            "cell_type": "code",
            "execution_count": 3,
            "source": [
                "#q2\r\n"
            ],
            "outputs": [],
            "metadata": {}
        },
        {
            "cell_type": "code",
            "execution_count": 4,
            "source": [
                "#q3\r\n"
            ],
            "outputs": [],
            "metadata": {}
        }
    ],
    "metadata": {
        "orig_nbformat": 4,
        "language_info": {
            "name": "python",
            "version": "3.9.5",
            "mimetype": "text/x-python",
            "codemirror_mode": {
                "name": "ipython",
                "version": 3
            },
            "pygments_lexer": "ipython3",
            "nbconvert_exporter": "python",
            "file_extension": ".py"
        },
        "kernelspec": {
            "name": "python3",
            "display_name": "Python 3.9.5 64-bit (windows store)"
        },
        "interpreter": {
            "hash": "0390282857b0f1d23906851b264b65c5961f2a459d8f279bdc74e540d037d235"
        }
    },
    "nbformat": 4,
    "nbformat_minor": 2
}