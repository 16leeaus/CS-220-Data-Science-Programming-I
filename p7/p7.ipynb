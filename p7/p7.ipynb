{
    "cells": [
        {
            "cell_type": "code",
            "execution_count": 1,
            "source": [
                "# project: p7\r\n",
                "# submitter: alee88\r\n",
                "# partner: none\r\n",
                "# hours: 10"
            ],
            "outputs": [],
            "metadata": {}
        },
        {
            "cell_type": "code",
            "execution_count": 2,
            "source": [
                "from bs4 import BeautifulSoup\r\n",
                "import pandas as pd\r\n",
                "import numpy as np\r\n",
                "import collections\r\n",
                "import sqlite3"
            ],
            "outputs": [],
            "metadata": {}
        },
        {
            "cell_type": "code",
            "execution_count": 3,
            "source": [
                "f = open(\"wi.html\", encoding = \"utf-8\")\r\n",
                "wi_html = f.read()\r\n",
                "f.close()\r\n",
                "p_ind = wi_html.find(\"<p>\")\r\n"
            ],
            "outputs": [],
            "metadata": {}
        },
        {
            "cell_type": "code",
            "execution_count": 4,
            "source": [
                "#q1\r\n",
                "wi_html[p_ind : p_ind + 500]"
            ],
            "outputs": [
                {
                    "output_type": "execute_result",
                    "data": {
                        "text/plain": [
                            "'<p>The U.S. state of <a href=\"/wiki/Wisconsin\" title=\"Wisconsin\">Wisconsin</a> is divided into 72 <a href=\"/wiki/County_(United_States)\" title=\"County (United States)\">counties</a>. The land that eventually became Wisconsin was transferred from British to American control with the 1783 signing of the <a href=\"/wiki/Treaty_of_Paris_(1783)\" title=\"Treaty of Paris (1783)\">Treaty of Paris</a>.<sup id=\"cite_ref-HistoryBuffaloPepinCounties_1-0\" class=\"reference\"><a href=\"#cite_note-HistoryBuffaloPepin'"
                        ]
                    },
                    "metadata": {},
                    "execution_count": 4
                }
            ],
            "metadata": {}
        },
        {
            "cell_type": "code",
            "execution_count": 5,
            "source": [
                "#q2\r\n",
                "doc = BeautifulSoup(wi_html, \"html.parser\")\r\n",
                "doc.find(\"p\").text"
            ],
            "outputs": [
                {
                    "output_type": "execute_result",
                    "data": {
                        "text/plain": [
                            "\"The U.S. state of Wisconsin is divided into 72 counties. The land that eventually became Wisconsin was transferred from British to American control with the 1783 signing of the Treaty of Paris.[1] It was an unorganized part of the Northwest Territory until 1802 when all of the land from St. Louis north to the Canadian border was organized as St. Clair County.[1]  When Illinois was admitted to the union in 1818, Wisconsin became part of the Territory of Michigan and divided into two counties: Brown County in the northeast along Lake Michigan and Crawford County in the southwest along the Mississippi River.[1] Iowa County was formed in 1829 from the Crawford County land south of the Wisconsin River.[1] Brown County's southern portion was used to form Milwaukee County in 1834.[1] The state of Wisconsin was created from Wisconsin Territory on May 29, 1848, with 28 counties.\\n\""
                        ]
                    },
                    "metadata": {},
                    "execution_count": 5
                }
            ],
            "metadata": {}
        },
        {
            "cell_type": "code",
            "execution_count": 6,
            "source": [
                "#q3\r\n",
                "len(doc.find_all(\"table\"))"
            ],
            "outputs": [
                {
                    "output_type": "execute_result",
                    "data": {
                        "text/plain": [
                            "4"
                        ]
                    },
                    "metadata": {},
                    "execution_count": 6
                }
            ],
            "metadata": {}
        },
        {
            "cell_type": "code",
            "execution_count": 7,
            "source": [
                "#q4\r\n",
                "table_length = []\r\n",
                "tables = doc.find_all(\"table\")\r\n",
                "for table in tables:\r\n",
                "    table_body = table.find(\"tbody\")\r\n",
                "    table_length.append(len(table_body.find_all(\"tr\")))\r\n",
                "\r\n",
                "table_length"
            ],
            "outputs": [
                {
                    "output_type": "execute_result",
                    "data": {
                        "text/plain": [
                            "[8, 73, 5, 10]"
                        ]
                    },
                    "metadata": {},
                    "execution_count": 7
                }
            ],
            "metadata": {}
        },
        {
            "cell_type": "code",
            "execution_count": 8,
            "source": [
                "#q5\r\n",
                "\r\n",
                "s = doc.find_all(\"table\")[1].find(\"tr\").find_all(\"th\")\r\n",
                "\r\n",
                "column_lst = []\r\n",
                "for item in s:\r\n",
                "    column_name = item.text.split(\"[\")[0].replace(\" \", \"\").replace(\".\", \"\").strip()\r\n",
                "    column_lst.append(column_name)\r\n",
                "\r\n",
                "column_lst"
            ],
            "outputs": [
                {
                    "output_type": "execute_result",
                    "data": {
                        "text/plain": [
                            "['County',\n",
                            " 'FIPScode',\n",
                            " 'Countyseat',\n",
                            " 'Est',\n",
                            " 'Formedfrom',\n",
                            " 'Etymology',\n",
                            " 'Population',\n",
                            " 'Area',\n",
                            " 'Map']"
                        ]
                    },
                    "metadata": {},
                    "execution_count": 8
                }
            ],
            "metadata": {}
        },
        {
            "cell_type": "code",
            "execution_count": 9,
            "source": [
                "def county_tr_to_dict(row): \r\n",
                "    global column_lst\r\n",
                "    county_idx=column_lst.index(\"County\")\r\n",
                "    fip_idx=column_lst.index(\"FIPScode\")\r\n",
                "    est_idx=column_lst.index(\"Est\")\r\n",
                "    pop_idx=column_lst.index(\"Population\")\r\n",
                "    area_idx=column_lst.index(\"Area\")\r\n",
                "    a=row.find_all(['th','td'])\r\n",
                "    results = {}\r\n",
                "    results['FIPScode'] = str(a[fip_idx].text.strip())\r\n",
                "    results['County'] = str(a[county_idx].text.strip())\r\n",
                "    results['Est'] = int(str(a[est_idx].text.strip()))\r\n",
                "    results['Population'] = int(str(a[pop_idx].text.strip()).replace(\",\",\"\"))\r\n",
                "    results['Area'] = float(str(a[area_idx].text.split(\"s\")[0].strip()).replace(\",\",\"\"))\r\n",
                "    return results\r\n",
                "\r\n",
                "counties_lst=[]\r\n",
                "for row in tables[1].find_all('tr')[1:]:\r\n",
                "    line=county_tr_to_dict(row)\r\n",
                "    counties_lst.append(line)\r\n",
                "counties_lst\r\n",
                "\r\n",
                "counties_df = pd.DataFrame(counties_lst)\r\n",
                "counties_df"
            ],
            "outputs": [
                {
                    "output_type": "execute_result",
                    "data": {
                        "text/plain": [
                            "   FIPScode            County   Est  Population     Area\n",
                            "0       001      Adams County  1848       20875   645.65\n",
                            "1       003    Ashland County  1860       16157  1045.04\n",
                            "2       005     Barron County  1859       45870   862.71\n",
                            "3       007   Bayfield County  1845       15014  1477.86\n",
                            "4       009      Brown County  1818      248007   529.71\n",
                            "..      ...               ...   ...         ...      ...\n",
                            "67      133   Waukesha County  1846      389891   549.57\n",
                            "68      135    Waupaca County  1851       52410   747.71\n",
                            "69      137   Waushara County  1851       24496   626.15\n",
                            "70      139  Winnebago County  1840      166994   434.49\n",
                            "71      141       Wood County  1856       74749   793.12\n",
                            "\n",
                            "[72 rows x 5 columns]"
                        ],
                        "text/html": [
                            "<div>\n",
                            "<style scoped>\n",
                            "    .dataframe tbody tr th:only-of-type {\n",
                            "        vertical-align: middle;\n",
                            "    }\n",
                            "\n",
                            "    .dataframe tbody tr th {\n",
                            "        vertical-align: top;\n",
                            "    }\n",
                            "\n",
                            "    .dataframe thead th {\n",
                            "        text-align: right;\n",
                            "    }\n",
                            "</style>\n",
                            "<table border=\"1\" class=\"dataframe\">\n",
                            "  <thead>\n",
                            "    <tr style=\"text-align: right;\">\n",
                            "      <th></th>\n",
                            "      <th>FIPScode</th>\n",
                            "      <th>County</th>\n",
                            "      <th>Est</th>\n",
                            "      <th>Population</th>\n",
                            "      <th>Area</th>\n",
                            "    </tr>\n",
                            "  </thead>\n",
                            "  <tbody>\n",
                            "    <tr>\n",
                            "      <th>0</th>\n",
                            "      <td>001</td>\n",
                            "      <td>Adams County</td>\n",
                            "      <td>1848</td>\n",
                            "      <td>20875</td>\n",
                            "      <td>645.65</td>\n",
                            "    </tr>\n",
                            "    <tr>\n",
                            "      <th>1</th>\n",
                            "      <td>003</td>\n",
                            "      <td>Ashland County</td>\n",
                            "      <td>1860</td>\n",
                            "      <td>16157</td>\n",
                            "      <td>1045.04</td>\n",
                            "    </tr>\n",
                            "    <tr>\n",
                            "      <th>2</th>\n",
                            "      <td>005</td>\n",
                            "      <td>Barron County</td>\n",
                            "      <td>1859</td>\n",
                            "      <td>45870</td>\n",
                            "      <td>862.71</td>\n",
                            "    </tr>\n",
                            "    <tr>\n",
                            "      <th>3</th>\n",
                            "      <td>007</td>\n",
                            "      <td>Bayfield County</td>\n",
                            "      <td>1845</td>\n",
                            "      <td>15014</td>\n",
                            "      <td>1477.86</td>\n",
                            "    </tr>\n",
                            "    <tr>\n",
                            "      <th>4</th>\n",
                            "      <td>009</td>\n",
                            "      <td>Brown County</td>\n",
                            "      <td>1818</td>\n",
                            "      <td>248007</td>\n",
                            "      <td>529.71</td>\n",
                            "    </tr>\n",
                            "    <tr>\n",
                            "      <th>...</th>\n",
                            "      <td>...</td>\n",
                            "      <td>...</td>\n",
                            "      <td>...</td>\n",
                            "      <td>...</td>\n",
                            "      <td>...</td>\n",
                            "    </tr>\n",
                            "    <tr>\n",
                            "      <th>67</th>\n",
                            "      <td>133</td>\n",
                            "      <td>Waukesha County</td>\n",
                            "      <td>1846</td>\n",
                            "      <td>389891</td>\n",
                            "      <td>549.57</td>\n",
                            "    </tr>\n",
                            "    <tr>\n",
                            "      <th>68</th>\n",
                            "      <td>135</td>\n",
                            "      <td>Waupaca County</td>\n",
                            "      <td>1851</td>\n",
                            "      <td>52410</td>\n",
                            "      <td>747.71</td>\n",
                            "    </tr>\n",
                            "    <tr>\n",
                            "      <th>69</th>\n",
                            "      <td>137</td>\n",
                            "      <td>Waushara County</td>\n",
                            "      <td>1851</td>\n",
                            "      <td>24496</td>\n",
                            "      <td>626.15</td>\n",
                            "    </tr>\n",
                            "    <tr>\n",
                            "      <th>70</th>\n",
                            "      <td>139</td>\n",
                            "      <td>Winnebago County</td>\n",
                            "      <td>1840</td>\n",
                            "      <td>166994</td>\n",
                            "      <td>434.49</td>\n",
                            "    </tr>\n",
                            "    <tr>\n",
                            "      <th>71</th>\n",
                            "      <td>141</td>\n",
                            "      <td>Wood County</td>\n",
                            "      <td>1856</td>\n",
                            "      <td>74749</td>\n",
                            "      <td>793.12</td>\n",
                            "    </tr>\n",
                            "  </tbody>\n",
                            "</table>\n",
                            "<p>72 rows × 5 columns</p>\n",
                            "</div>"
                        ]
                    },
                    "metadata": {},
                    "execution_count": 9
                }
            ],
            "metadata": {}
        },
        {
            "cell_type": "code",
            "execution_count": 10,
            "source": [
                "#q6\r\n",
                "counties_lst[0]"
            ],
            "outputs": [
                {
                    "output_type": "execute_result",
                    "data": {
                        "text/plain": [
                            "{'FIPScode': '001',\n",
                            " 'County': 'Adams County',\n",
                            " 'Est': 1848,\n",
                            " 'Population': 20875,\n",
                            " 'Area': 645.65}"
                        ]
                    },
                    "metadata": {},
                    "execution_count": 10
                }
            ],
            "metadata": {}
        },
        {
            "cell_type": "code",
            "execution_count": 11,
            "source": [
                "fips_lookup = {}\r\n",
                "\r\n",
                "for county in range(len(counties_lst)):\r\n",
                "    fips_lookup[counties_lst[county][\"FIPScode\"]] = counties_lst[county][\"County\"]\r\n",
                "    "
            ],
            "outputs": [],
            "metadata": {}
        },
        {
            "cell_type": "code",
            "execution_count": 12,
            "source": [
                "#q7\r\n",
                "fips_lookup"
            ],
            "outputs": [
                {
                    "output_type": "execute_result",
                    "data": {
                        "text/plain": [
                            "{'001': 'Adams County',\n",
                            " '003': 'Ashland County',\n",
                            " '005': 'Barron County',\n",
                            " '007': 'Bayfield County',\n",
                            " '009': 'Brown County',\n",
                            " '011': 'Buffalo County',\n",
                            " '013': 'Burnett County',\n",
                            " '015': 'Calumet County',\n",
                            " '017': 'Chippewa County',\n",
                            " '019': 'Clark County',\n",
                            " '021': 'Columbia County',\n",
                            " '023': 'Crawford County',\n",
                            " '025': 'Dane County',\n",
                            " '027': 'Dodge County',\n",
                            " '029': 'Door County',\n",
                            " '031': 'Douglas County',\n",
                            " '033': 'Dunn County',\n",
                            " '035': 'Eau Claire County',\n",
                            " '037': 'Florence County',\n",
                            " '039': 'Fond du Lac County',\n",
                            " '041': 'Forest County',\n",
                            " '043': 'Grant County',\n",
                            " '045': 'Green County',\n",
                            " '047': 'Green Lake County',\n",
                            " '049': 'Iowa County',\n",
                            " '051': 'Iron County',\n",
                            " '053': 'Jackson County',\n",
                            " '055': 'Jefferson County',\n",
                            " '057': 'Juneau County',\n",
                            " '059': 'Kenosha County',\n",
                            " '061': 'Kewaunee County',\n",
                            " '063': 'La Crosse County',\n",
                            " '065': 'Lafayette County',\n",
                            " '067': 'Langlade County',\n",
                            " '069': 'Lincoln County',\n",
                            " '071': 'Manitowoc County',\n",
                            " '073': 'Marathon County',\n",
                            " '075': 'Marinette County',\n",
                            " '077': 'Marquette County',\n",
                            " '078': 'Menominee County',\n",
                            " '079': 'Milwaukee County',\n",
                            " '081': 'Monroe County',\n",
                            " '083': 'Oconto County',\n",
                            " '085': 'Oneida County',\n",
                            " '087': 'Outagamie County',\n",
                            " '089': 'Ozaukee County',\n",
                            " '091': 'Pepin County',\n",
                            " '093': 'Pierce County',\n",
                            " '095': 'Polk County',\n",
                            " '097': 'Portage County',\n",
                            " '099': 'Price County',\n",
                            " '101': 'Racine County',\n",
                            " '103': 'Richland County',\n",
                            " '105': 'Rock County',\n",
                            " '107': 'Rusk County',\n",
                            " '111': 'Sauk County',\n",
                            " '113': 'Sawyer County',\n",
                            " '115': 'Shawano County',\n",
                            " '117': 'Sheboygan County',\n",
                            " '109': 'St. Croix County',\n",
                            " '119': 'Taylor County',\n",
                            " '121': 'Trempealeau County',\n",
                            " '123': 'Vernon County',\n",
                            " '125': 'Vilas County',\n",
                            " '127': 'Walworth County',\n",
                            " '129': 'Washburn County',\n",
                            " '131': 'Washington County',\n",
                            " '133': 'Waukesha County',\n",
                            " '135': 'Waupaca County',\n",
                            " '137': 'Waushara County',\n",
                            " '139': 'Winnebago County',\n",
                            " '141': 'Wood County'}"
                        ]
                    },
                    "metadata": {},
                    "execution_count": 12
                }
            ],
            "metadata": {}
        },
        {
            "cell_type": "code",
            "execution_count": 13,
            "source": [
                "covid_df = pd.read_csv(\"wi-covid.csv\", converters = {\"GEOID\": str})\r\n",
                "\r\n",
                "\r\n",
                "id_lst = []\r\n",
                "for i in range(len(covid_df)):\r\n",
                "   curr_id = covid_df[\"GEOID\"][i][2:5]\r\n",
                "   id_lst.append(fips_lookup[curr_id])\r\n",
                "\r\n",
                "covid_df[\"County\"]  = id_lst\r\n",
                "\r\n",
                "covid_df"
            ],
            "outputs": [
                {
                    "output_type": "execute_result",
                    "data": {
                        "text/plain": [
                            "            GEOID  POSITIVE  DEATHS  HOSP_YES        County\n",
                            "0     55009940002       555     NaN      17.0  Brown County\n",
                            "1     55009001600       880    10.0      67.0  Brown County\n",
                            "2     55009001801       616     9.0      31.0  Brown County\n",
                            "3     55009001802       514     NaN       9.0  Brown County\n",
                            "4     55009002001      1141    19.0      74.0  Brown County\n",
                            "...           ...       ...     ...       ...           ...\n",
                            "1387  55043960800       297     NaN      22.0  Grant County\n",
                            "1388  55043960100       277     9.0      22.0  Grant County\n",
                            "1389  55043960500       273     NaN      17.0  Grant County\n",
                            "1390  55043961100       499    11.0      31.0  Grant County\n",
                            "1391  55043960600       311    23.0      26.0  Grant County\n",
                            "\n",
                            "[1392 rows x 5 columns]"
                        ],
                        "text/html": [
                            "<div>\n",
                            "<style scoped>\n",
                            "    .dataframe tbody tr th:only-of-type {\n",
                            "        vertical-align: middle;\n",
                            "    }\n",
                            "\n",
                            "    .dataframe tbody tr th {\n",
                            "        vertical-align: top;\n",
                            "    }\n",
                            "\n",
                            "    .dataframe thead th {\n",
                            "        text-align: right;\n",
                            "    }\n",
                            "</style>\n",
                            "<table border=\"1\" class=\"dataframe\">\n",
                            "  <thead>\n",
                            "    <tr style=\"text-align: right;\">\n",
                            "      <th></th>\n",
                            "      <th>GEOID</th>\n",
                            "      <th>POSITIVE</th>\n",
                            "      <th>DEATHS</th>\n",
                            "      <th>HOSP_YES</th>\n",
                            "      <th>County</th>\n",
                            "    </tr>\n",
                            "  </thead>\n",
                            "  <tbody>\n",
                            "    <tr>\n",
                            "      <th>0</th>\n",
                            "      <td>55009940002</td>\n",
                            "      <td>555</td>\n",
                            "      <td>NaN</td>\n",
                            "      <td>17.0</td>\n",
                            "      <td>Brown County</td>\n",
                            "    </tr>\n",
                            "    <tr>\n",
                            "      <th>1</th>\n",
                            "      <td>55009001600</td>\n",
                            "      <td>880</td>\n",
                            "      <td>10.0</td>\n",
                            "      <td>67.0</td>\n",
                            "      <td>Brown County</td>\n",
                            "    </tr>\n",
                            "    <tr>\n",
                            "      <th>2</th>\n",
                            "      <td>55009001801</td>\n",
                            "      <td>616</td>\n",
                            "      <td>9.0</td>\n",
                            "      <td>31.0</td>\n",
                            "      <td>Brown County</td>\n",
                            "    </tr>\n",
                            "    <tr>\n",
                            "      <th>3</th>\n",
                            "      <td>55009001802</td>\n",
                            "      <td>514</td>\n",
                            "      <td>NaN</td>\n",
                            "      <td>9.0</td>\n",
                            "      <td>Brown County</td>\n",
                            "    </tr>\n",
                            "    <tr>\n",
                            "      <th>4</th>\n",
                            "      <td>55009002001</td>\n",
                            "      <td>1141</td>\n",
                            "      <td>19.0</td>\n",
                            "      <td>74.0</td>\n",
                            "      <td>Brown County</td>\n",
                            "    </tr>\n",
                            "    <tr>\n",
                            "      <th>...</th>\n",
                            "      <td>...</td>\n",
                            "      <td>...</td>\n",
                            "      <td>...</td>\n",
                            "      <td>...</td>\n",
                            "      <td>...</td>\n",
                            "    </tr>\n",
                            "    <tr>\n",
                            "      <th>1387</th>\n",
                            "      <td>55043960800</td>\n",
                            "      <td>297</td>\n",
                            "      <td>NaN</td>\n",
                            "      <td>22.0</td>\n",
                            "      <td>Grant County</td>\n",
                            "    </tr>\n",
                            "    <tr>\n",
                            "      <th>1388</th>\n",
                            "      <td>55043960100</td>\n",
                            "      <td>277</td>\n",
                            "      <td>9.0</td>\n",
                            "      <td>22.0</td>\n",
                            "      <td>Grant County</td>\n",
                            "    </tr>\n",
                            "    <tr>\n",
                            "      <th>1389</th>\n",
                            "      <td>55043960500</td>\n",
                            "      <td>273</td>\n",
                            "      <td>NaN</td>\n",
                            "      <td>17.0</td>\n",
                            "      <td>Grant County</td>\n",
                            "    </tr>\n",
                            "    <tr>\n",
                            "      <th>1390</th>\n",
                            "      <td>55043961100</td>\n",
                            "      <td>499</td>\n",
                            "      <td>11.0</td>\n",
                            "      <td>31.0</td>\n",
                            "      <td>Grant County</td>\n",
                            "    </tr>\n",
                            "    <tr>\n",
                            "      <th>1391</th>\n",
                            "      <td>55043960600</td>\n",
                            "      <td>311</td>\n",
                            "      <td>23.0</td>\n",
                            "      <td>26.0</td>\n",
                            "      <td>Grant County</td>\n",
                            "    </tr>\n",
                            "  </tbody>\n",
                            "</table>\n",
                            "<p>1392 rows × 5 columns</p>\n",
                            "</div>"
                        ]
                    },
                    "metadata": {},
                    "execution_count": 13
                }
            ],
            "metadata": {}
        },
        {
            "cell_type": "code",
            "execution_count": 14,
            "source": [
                "#q8\r\n",
                "dict(covid_df.value_counts(\"County\"))"
            ],
            "outputs": [
                {
                    "output_type": "execute_result",
                    "data": {
                        "text/plain": [
                            "{'Milwaukee County': 296,\n",
                            " 'Dane County': 105,\n",
                            " 'Waukesha County': 86,\n",
                            " 'Brown County': 54,\n",
                            " 'Racine County': 44,\n",
                            " 'Winnebago County': 41,\n",
                            " 'Outagamie County': 40,\n",
                            " 'Rock County': 38,\n",
                            " 'Kenosha County': 35,\n",
                            " 'Washington County': 28,\n",
                            " 'Marathon County': 27,\n",
                            " 'Sheboygan County': 26,\n",
                            " 'La Crosse County': 25,\n",
                            " 'Walworth County': 22,\n",
                            " 'Eau Claire County': 20,\n",
                            " 'Fond du Lac County': 20,\n",
                            " 'Dodge County': 20,\n",
                            " 'Jefferson County': 20,\n",
                            " 'Manitowoc County': 19,\n",
                            " 'Ozaukee County': 18,\n",
                            " 'Wood County': 17,\n",
                            " 'St. Croix County': 14,\n",
                            " 'Oneida County': 14,\n",
                            " 'Portage County': 14,\n",
                            " 'Sauk County': 13,\n",
                            " 'Grant County': 12,\n",
                            " 'Marinette County': 12,\n",
                            " 'Douglas County': 12,\n",
                            " 'Columbia County': 12,\n",
                            " 'Waupaca County': 12,\n",
                            " 'Shawano County': 11,\n",
                            " 'Calumet County': 11,\n",
                            " 'Chippewa County': 11,\n",
                            " 'Lincoln County': 10,\n",
                            " 'Polk County': 10,\n",
                            " 'Oconto County': 10,\n",
                            " 'Barron County': 10,\n",
                            " 'Door County': 9,\n",
                            " 'Monroe County': 9,\n",
                            " 'Trempealeau County': 8,\n",
                            " 'Green County': 8,\n",
                            " 'Clark County': 8,\n",
                            " 'Dunn County': 8,\n",
                            " 'Pierce County': 8,\n",
                            " 'Vernon County': 7,\n",
                            " 'Waushara County': 7,\n",
                            " 'Adams County': 7,\n",
                            " 'Juneau County': 7,\n",
                            " 'Ashland County': 7,\n",
                            " 'Sawyer County': 6,\n",
                            " 'Green Lake County': 6,\n",
                            " 'Iowa County': 6,\n",
                            " 'Burnett County': 6,\n",
                            " 'Taylor County': 6,\n",
                            " 'Crawford County': 6,\n",
                            " 'Price County': 6,\n",
                            " 'Langlade County': 6,\n",
                            " 'Lafayette County': 5,\n",
                            " 'Richland County': 5,\n",
                            " 'Marquette County': 5,\n",
                            " 'Bayfield County': 5,\n",
                            " 'Buffalo County': 5,\n",
                            " 'Washburn County': 5,\n",
                            " 'Vilas County': 5,\n",
                            " 'Rusk County': 5,\n",
                            " 'Jackson County': 5,\n",
                            " 'Forest County': 4,\n",
                            " 'Kewaunee County': 4,\n",
                            " 'Iron County': 3,\n",
                            " 'Menominee County': 2,\n",
                            " 'Florence County': 2,\n",
                            " 'Pepin County': 2}"
                        ]
                    },
                    "metadata": {},
                    "execution_count": 14
                }
            ],
            "metadata": {}
        },
        {
            "cell_type": "code",
            "execution_count": 15,
            "source": [
                "import sqlite3\r\n",
                "c = sqlite3.connect(\"wi.db\")\r\n",
                "counties_df.to_sql(\"counties\", c, if_exists=\"replace\", index=False)\r\n",
                "covid_df.to_sql(\"covid\", c, if_exists=\"replace\", index=False)"
            ],
            "outputs": [],
            "metadata": {}
        },
        {
            "cell_type": "code",
            "execution_count": 16,
            "source": [
                "#q9\r\n",
                "set(pd.read_sql(\"SELECT name FROM sqlite_master\", c)[\"name\"])\r\n",
                "\r\n",
                "#set(pd.read_sql(\"\"\"SELECT Est, County FROM counties WHERE Est > 1890\"\"\", c ))"
            ],
            "outputs": [
                {
                    "output_type": "execute_result",
                    "data": {
                        "text/plain": [
                            "{'counties', 'covid'}"
                        ]
                    },
                    "metadata": {},
                    "execution_count": 16
                }
            ],
            "metadata": {}
        },
        {
            "cell_type": "code",
            "execution_count": 17,
            "source": [
                "#q10\r\n",
                "float(pd.read_sql(\"\"\"SELECT SUM(Area) FROM counties\"\"\", c).iloc[0])"
            ],
            "outputs": [
                {
                    "output_type": "execute_result",
                    "data": {
                        "text/plain": [
                            "54157.86999999999"
                        ]
                    },
                    "metadata": {},
                    "execution_count": 17
                }
            ],
            "metadata": {}
        },
        {
            "cell_type": "code",
            "execution_count": 18,
            "source": [
                "#q11\r\n",
                "#pd.read_sql(\"\"\"SELECT County FROM covid GROUP BY County\"\"\", c)"
            ],
            "outputs": [],
            "metadata": {}
        },
        {
            "cell_type": "code",
            "execution_count": 19,
            "source": [
                "#q12\r\n",
                "#pd.read_sql(\"\"\"SELECT County, Population FROM counties ORDER BY Population LIMIT 4\"\"\", c)[\"Population\"]"
            ],
            "outputs": [],
            "metadata": {}
        },
        {
            "cell_type": "code",
            "execution_count": 20,
            "source": [
                "#q13\r\n",
                "int(pd.read_sql(\"\"\"SELECT SUM(DEATHS) FROM covid WHERE County = 'Dane County' \"\"\", c).iloc[0])"
            ],
            "outputs": [
                {
                    "output_type": "execute_result",
                    "data": {
                        "text/plain": [
                            "190"
                        ]
                    },
                    "metadata": {},
                    "execution_count": 20
                }
            ],
            "metadata": {}
        },
        {
            "cell_type": "code",
            "execution_count": 21,
            "source": [
                "#q14\r\n",
                "set(pd.read_sql(\"\"\"SELECT County FROM counties WHERE Est > 1890\"\"\", c )[\"County\"])"
            ],
            "outputs": [
                {
                    "output_type": "execute_result",
                    "data": {
                        "text/plain": [
                            "{'Iron County', 'Menominee County', 'Rusk County', 'Vilas County'}"
                        ]
                    },
                    "metadata": {},
                    "execution_count": 21
                }
            ],
            "metadata": {}
        },
        {
            "cell_type": "code",
            "execution_count": 22,
            "source": [
                "#q15\r\n",
                "#pd.read_sql(\"\"\"SELECT County, HOSP_YES FROM covid WHERE HOSP_YES \"\"\", c)"
            ],
            "outputs": [],
            "metadata": {}
        },
        {
            "cell_type": "code",
            "execution_count": 23,
            "source": [
                "#q16\r\n",
                "plt = counties_df.plot.scatter(x = \"Area\", y = \"Population\")\r\n",
                "plt.set_title(\"Counties: Population vs. Area\")\r\n",
                "plt.set_xlabel(\"Area (sq mi)\")\r\n",
                "plt.set_ylabel(\"Population (thousands)\")\r\n",
                "plt.spines[\"right\"].set_visible(False)\r\n",
                "plt.spines[\"top\"].set_visible(False)"
            ],
            "outputs": [
                {
                    "output_type": "display_data",
                    "data": {
                        "text/plain": [
                            "<Figure size 432x288 with 1 Axes>"
                        ],
                        "image/png": "[encoded data removed]"
                    },
                    "metadata": {
                        "needs_background": "light"
                    }
                }
            ],
            "metadata": {}
        },
        {
            "cell_type": "code",
            "execution_count": 24,
            "source": [
                "#q17\r\n",
                "results = pd.read_sql(\"\"\"SELECT Est From counties\"\"\", c)\r\n",
                "plt = results.value_counts().sort_index().cumsum().plot.line()\r\n",
                "plt.set_xlabel(\"Year\")\r\n",
                "plt.set_ylabel(\"Present-Day Counties Established\")"
            ],
            "outputs": [
                {
                    "output_type": "execute_result",
                    "data": {
                        "text/plain": [
                            "Text(0, 0.5, 'Present-Day Counties Established')"
                        ]
                    },
                    "metadata": {},
                    "execution_count": 24
                },
                {
                    "output_type": "display_data",
                    "data": {
                        "text/plain": [
                            "<Figure size 432x288 with 1 Axes>"
                        ],
                        "image/png": "[encoded data removed]"
                    },
                    "metadata": {
                        "needs_background": "light"
                    }
                }
            ],
            "metadata": {}
        },
        {
            "cell_type": "code",
            "execution_count": 25,
            "source": [
                "#q18\r\n",
                "pop = pd.read_sql(\"\"\"SELECT Population FROM counties\"\"\", c)\r\n",
                "area = pd.read_sql(\"\"\"SELECT Area FROM counties\"\"\", c)\r\n",
                "deaths = pd.read_sql(\"\"\"SELECT Deaths FROM covid\"\"\", c)\r\n"
            ],
            "outputs": [],
            "metadata": {}
        },
        {
            "cell_type": "code",
            "execution_count": 26,
            "source": [
                "#q19"
            ],
            "outputs": [],
            "metadata": {}
        },
        {
            "cell_type": "code",
            "execution_count": 27,
            "source": [
                "#q20"
            ],
            "outputs": [],
            "metadata": {}
        }
    ],
    "metadata": {
        "orig_nbformat": 4,
        "language_info": {
            "name": "python",
            "version": "3.9.5",
            "mimetype": "text/x-python",
            "codemirror_mode": {
                "name": "ipython",
                "version": 3
            },
            "pygments_lexer": "ipython3",
            "nbconvert_exporter": "python",
            "file_extension": ".py"
        },
        "kernelspec": {
            "name": "python3",
            "display_name": "Python 3.9.5 64-bit (windows store)"
        },
        "interpreter": {
            "hash": "0390282857b0f1d23906851b264b65c5961f2a459d8f279bdc74e540d037d235"
        }
    },
    "nbformat": 4,
    "nbformat_minor": 2
}